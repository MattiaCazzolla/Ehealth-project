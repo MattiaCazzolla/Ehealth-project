{
 "cells": [
  {
   "cell_type": "markdown",
   "id": "a9a6a507",
   "metadata": {},
   "source": [
    "# PubMed API Tutorial"
   ]
  },
  {
   "cell_type": "markdown",
   "id": "9cfad6ff",
   "metadata": {},
   "source": [
    "Write a program that creates a database of PubMed articles corresponding to a specific search string\n",
    "- Define the structure of your database\n",
    "- Explot the ENTREZ API to fetch the target information\n",
    "- Process the ENTREZ output into your own data structure"
   ]
  },
  {
   "cell_type": "code",
   "execution_count": 1,
   "id": "7e4ad24b",
   "metadata": {},
   "outputs": [],
   "source": [
    "import requests\n",
    "import json"
   ]
  },
  {
   "cell_type": "code",
   "execution_count": 2,
   "id": "34667703",
   "metadata": {},
   "outputs": [],
   "source": [
    "# what we would like to search on pubmed\n",
    "inp = 'ai'\n",
    "\n",
    "# good practice when dealing with user input\n",
    "# it removes any spaces before and after the string\n",
    "inp = inp.strip()\n",
    "\n",
    "# also pubmed api doesn't suppor spaces\n",
    "inp = inp.replace(' ', '+')"
   ]
  },
  {
   "cell_type": "markdown",
   "id": "dcac1b09",
   "metadata": {},
   "source": [
    "## ESEARCH"
   ]
  },
  {
   "cell_type": "markdown",
   "id": "4161c62e",
   "metadata": {},
   "source": [
    "Portion of the API that provide a list of UIDs matching a text query\n",
    "require some parameters:\n",
    "- **db**: where to look for in our case is pubmed\n",
    "- **term**: the actual text query (user input)\n",
    "- **retmode**: the output format (xml, html, json ...)\n",
    "- **retmax**: how many UIDs to return (max 100.000)\n",
    "- **retstart**: from what UID index start to retrieve (important if we want to retrieve more that 100000 UIDs)"
   ]
  },
  {
   "cell_type": "code",
   "execution_count": 3,
   "id": "2f0ab58d",
   "metadata": {},
   "outputs": [],
   "source": [
    "# create the url for the api with the parameters we want\n",
    "base_url = 'https://eutils.ncbi.nlm.nih.gov/entrez/eutils/esearch.fcgi'\n",
    "db = '?db=pubmed'\n",
    "term = '&term='+inp\n",
    "retmode = '&retmode=json' # json easier than xlm\n",
    "retstart = '&retstart=0' # not really necessary\n",
    "retmax = '&retmax=20' # only retireve 20 for this example"
   ]
  },
  {
   "cell_type": "code",
   "execution_count": 4,
   "id": "fe68b3e8",
   "metadata": {},
   "outputs": [],
   "source": [
    "url = base_url + db + term + retmode + retstart + retmax"
   ]
  },
  {
   "cell_type": "code",
   "execution_count": 5,
   "id": "b4502ea6",
   "metadata": {},
   "outputs": [
    {
     "name": "stdout",
     "output_type": "stream",
     "text": [
      "https://eutils.ncbi.nlm.nih.gov/entrez/eutils/esearch.fcgi?db=pubmed&term=ai&retmode=json&retstart=0&retmax=20\n"
     ]
    }
   ],
   "source": [
    "print(url)"
   ]
  },
  {
   "cell_type": "code",
   "execution_count": 6,
   "id": "465bdb63",
   "metadata": {},
   "outputs": [
    {
     "data": {
      "text/plain": [
       "'{\"header\":{\"type\":\"esearch\",\"version\":\"0.3\"},\"esearchresult\":{\"count\":\"1031043\",\"retmax\":\"20\",\"retstart\":\"0\",\"idlist\":[\"36150897\",\"36150786\",\"36150780\",\"36150617\",\"36150548\",\"36150430\",\"36150415\",\"36150254\",\"36149899\",\"36149896\",\"36149852\",\"36149773\",\"36149730\",\"36149727\",\"36149583\",\"36149512\",\"36149398\",\"36149279\",\"36148991\",\"36148916\"],\"translationset\":[{\"from\":\"ai\",\"to\":\"\\\\\"antagonists and inhibitors\\\\\"[Subheading] OR (\\\\\"antagonists\\\\\"[All Fields] AND \\\\\"inhibitors\\\\\"[All Fields]) OR \\\\\"antagonists and inhibitors\\\\\"[All Fields] OR \\\\\"ai\\\\\"[All Fields]\"}],\"translationstack\":[{\"term\":\"\\\\\"antagonists and inhibitors\\\\\"[Subheading]\",\"field\":\"Subheading\",\"count\":\"617280\",\"explode\":\"Y\"},{\"term\":\"\\\\\"antagonists\\\\\"[All Fields]\",\"field\":\"All Fields\",\"count\":\"894020\",\"explode\":\"N\"},{\"term\":\"\\\\\"inhibitors\\\\\"[All Fields]\",\"field\":\"All Fields\",\"count\":\"1329963\",\"explode\":\"N\"},\"AND\",\"GROUP\",\"OR\",{\"term\":\"\\\\\"antagonists and inhibitors\\\\\"[All Fields]\",\"field\":\"All Fields\",\"count\":\"617400\",\"explode\":\"N\"},\"OR\",{\"term\":\"\\\\\"ai\\\\\"[All Fields]\",\"field\":\"All Fields\",\"count\":\"386282\",\"explode\":\"N\"},\"OR\",\"GROUP\"],\"querytranslation\":\"\\\\\"antagonists and inhibitors\\\\\"[Subheading] OR (\\\\\"antagonists\\\\\"[All Fields] AND \\\\\"inhibitors\\\\\"[All Fields]) OR \\\\\"antagonists and inhibitors\\\\\"[All Fields] OR \\\\\"ai\\\\\"[All Fields]\"}}\\n'"
      ]
     },
     "execution_count": 6,
     "metadata": {},
     "output_type": "execute_result"
    }
   ],
   "source": [
    "# we request the site's content\n",
    "# result is in binary\n",
    "site = requests.get(url).content\n",
    "\n",
    "# convert the binary\n",
    "site = site.decode()\n",
    "site"
   ]
  },
  {
   "cell_type": "code",
   "execution_count": 7,
   "id": "30fc5b59",
   "metadata": {},
   "outputs": [
    {
     "data": {
      "text/plain": [
       "{'header': {'type': 'esearch', 'version': '0.3'},\n",
       " 'esearchresult': {'count': '1031043',\n",
       "  'retmax': '20',\n",
       "  'retstart': '0',\n",
       "  'idlist': ['36150897',\n",
       "   '36150786',\n",
       "   '36150780',\n",
       "   '36150617',\n",
       "   '36150548',\n",
       "   '36150430',\n",
       "   '36150415',\n",
       "   '36150254',\n",
       "   '36149899',\n",
       "   '36149896',\n",
       "   '36149852',\n",
       "   '36149773',\n",
       "   '36149730',\n",
       "   '36149727',\n",
       "   '36149583',\n",
       "   '36149512',\n",
       "   '36149398',\n",
       "   '36149279',\n",
       "   '36148991',\n",
       "   '36148916'],\n",
       "  'translationset': [{'from': 'ai',\n",
       "    'to': '\"antagonists and inhibitors\"[Subheading] OR (\"antagonists\"[All Fields] AND \"inhibitors\"[All Fields]) OR \"antagonists and inhibitors\"[All Fields] OR \"ai\"[All Fields]'}],\n",
       "  'translationstack': [{'term': '\"antagonists and inhibitors\"[Subheading]',\n",
       "    'field': 'Subheading',\n",
       "    'count': '617280',\n",
       "    'explode': 'Y'},\n",
       "   {'term': '\"antagonists\"[All Fields]',\n",
       "    'field': 'All Fields',\n",
       "    'count': '894020',\n",
       "    'explode': 'N'},\n",
       "   {'term': '\"inhibitors\"[All Fields]',\n",
       "    'field': 'All Fields',\n",
       "    'count': '1329963',\n",
       "    'explode': 'N'},\n",
       "   'AND',\n",
       "   'GROUP',\n",
       "   'OR',\n",
       "   {'term': '\"antagonists and inhibitors\"[All Fields]',\n",
       "    'field': 'All Fields',\n",
       "    'count': '617400',\n",
       "    'explode': 'N'},\n",
       "   'OR',\n",
       "   {'term': '\"ai\"[All Fields]',\n",
       "    'field': 'All Fields',\n",
       "    'count': '386282',\n",
       "    'explode': 'N'},\n",
       "   'OR',\n",
       "   'GROUP'],\n",
       "  'querytranslation': '\"antagonists and inhibitors\"[Subheading] OR (\"antagonists\"[All Fields] AND \"inhibitors\"[All Fields]) OR \"antagonists and inhibitors\"[All Fields] OR \"ai\"[All Fields]'}}"
      ]
     },
     "execution_count": 7,
     "metadata": {},
     "output_type": "execute_result"
    }
   ],
   "source": [
    "# convert in json\n",
    "json_site = json.loads(site)\n",
    "json_site"
   ]
  },
  {
   "cell_type": "code",
   "execution_count": 8,
   "id": "89430c30",
   "metadata": {},
   "outputs": [
    {
     "data": {
      "text/plain": [
       "['36150897',\n",
       " '36150786',\n",
       " '36150780',\n",
       " '36150617',\n",
       " '36150548',\n",
       " '36150430',\n",
       " '36150415',\n",
       " '36150254',\n",
       " '36149899',\n",
       " '36149896',\n",
       " '36149852',\n",
       " '36149773',\n",
       " '36149730',\n",
       " '36149727',\n",
       " '36149583',\n",
       " '36149512',\n",
       " '36149398',\n",
       " '36149279',\n",
       " '36148991',\n",
       " '36148916']"
      ]
     },
     "execution_count": 8,
     "metadata": {},
     "output_type": "execute_result"
    }
   ],
   "source": [
    "# we only want the idlist\n",
    "json_site['esearchresult']['idlist']"
   ]
  },
  {
   "cell_type": "markdown",
   "id": "66fdc277",
   "metadata": {},
   "source": [
    "## EFETCH"
   ]
  },
  {
   "cell_type": "markdown",
   "id": "8e11483c",
   "metadata": {},
   "source": [
    "Portion of the API that given a UID return formatted data records.\n",
    "It require some parameter:\n",
    "- **db**: the database (our case pubmed)\n",
    "- **uid**: the UID whose data we want to retrieve\n",
    "- **retmode**: the format of output data (only xml or html)"
   ]
  },
  {
   "cell_type": "code",
   "execution_count": 9,
   "id": "26a7ad7d",
   "metadata": {},
   "outputs": [],
   "source": [
    "# create the url for the api with the parameters we want\n",
    "base_url = 'https://eutils.ncbi.nlm.nih.gov/entrez/eutils/efetch.fcgi'\n",
    "db = '?db=pubmed'\n",
    "uid = '&id=' + str(36135925) # just a random one, we want to use the one we retieved above\n",
    "rettype = '&rettype=medline' # medline more structured than xml"
   ]
  },
  {
   "cell_type": "code",
   "execution_count": 10,
   "id": "0e4023c7",
   "metadata": {},
   "outputs": [
    {
     "name": "stdout",
     "output_type": "stream",
     "text": [
      "https://eutils.ncbi.nlm.nih.gov/entrez/eutils/efetch.fcgi?db=pubmed&id=36135925&rettype=medline\n"
     ]
    }
   ],
   "source": [
    "url = base_url + db + uid + rettype\n",
    "print(url)"
   ]
  },
  {
   "cell_type": "code",
   "execution_count": 11,
   "id": "b8ad62ac",
   "metadata": {},
   "outputs": [],
   "source": [
    "paper_data = requests.get(url).content\n",
    "paper_data = paper_data.decode()"
   ]
  },
  {
   "cell_type": "code",
   "execution_count": 12,
   "id": "59dfe8c9",
   "metadata": {},
   "outputs": [
    {
     "data": {
      "text/plain": [
       "\"\\nPMID- 36135925\\nOWN - NLM\\nSTAT- Publisher\\nLR  - 20220922\\nIS  - 2050-084X (Electronic)\\nIS  - 2050-084X (Linking)\\nVI  - 11\\nDP  - 2022 Sep 22\\nTI  - Fitness effects of CRISPR endonucleases in Drosophila melanogaster populations.\\nLID - 10.7554/eLife.71809 [doi]\\nLID - e71809 [pii]\\nAB  - CRISPR/Cas9 provides a highly efficient and flexible genome editing technology\\n      with numerous potential applications ranging from gene therapy to population\\n      control. Some proposed applications involve the integration of CRISPR/Cas9\\n      endonucleases into an organism's genome, which raises questions about potentially\\n      harmful effects to the transgenic individuals. One example for which this is\\n      particularly relevant are CRISPR-based gene drives conceived for the genetic\\n      alteration of entire populations. The performance of such drives can strongly\\n      depend on fitness costs experienced by drive carriers, yet relatively little is\\n      known about the magnitude and causes of these costs. Here, we assess the fitness \\n      effects of genomic CRISPR/Cas9 expression in Drosophila melanogaster cage\\n      populations by tracking allele frequencies of four different transgenic\\n      constructs that allow us to disentangle 'direct' fitness costs due to the\\n      integration, expression, and target-site activity of Cas9, from fitness costs due\\n      to potential off-target cleavage. Using a maximum likelihood framework, we find\\n      that a model with no direct fitness costs but moderate costs due to off-target\\n      effects fits our cage data best. Consistent with this, we do not observe fitness \\n      costs for a construct with Cas9HF1, a high-fidelity version of Cas9. We further\\n      demonstrate that using Cas9HF1 instead of standard Cas9 in a homing drive\\n      achieves similar drive conversion efficiency. These results suggest that gene\\n      drives should be designed with high-fidelity endonucleases and may have\\n      implications for other applications that involve genomic integration of CRISPR\\n      endonucleases.\\nCI  - (c) 2022, Langmuller et al.\\nFAU - Langmuller, Anna M\\nAU  - Langmuller AM\\nAUID- ORCID: http://orcid.org/0000-0002-6102-8862\\nAD  - Department of Computational Biology, Cornell University, Ithaca, United States.\\nFAU - Champer, Jackson\\nAU  - Champer J\\nAUID- ORCID: http://orcid.org/0000-0002-3814-3774\\nAD  - Center for Bioinformatics, Peking University, Beijing, China.\\nFAU - Lapinska, Sandra\\nAU  - Lapinska S\\nAD  - Department of Computational Biology, Cornell University, Ithaca, United States.\\nFAU - Xie, Lin\\nAU  - Xie L\\nAD  - Department of Computational Biology, Cornell University, Ithaca, United States.\\nFAU - Metzloff, Matthew\\nAU  - Metzloff M\\nAUID- ORCID: http://orcid.org/0000-0002-6108-5031\\nAD  - Department of Computational Biology, Cornell University, Ithaca, United States.\\nFAU - Champer, Samuel E\\nAU  - Champer SE\\nAUID- ORCID: http://orcid.org/0000-0002-4559-7627\\nAD  - Department of Computational Biology, Cornell University, Ithaca, United States.\\nFAU - Liu, Jingxian\\nAU  - Liu J\\nAUID- ORCID: http://orcid.org/0000-0002-2172-3297\\nAD  - Department of Biological Statistics, Cornell University, Ithaca, United States.\\nFAU - Xu, Yineng\\nAU  - Xu Y\\nAUID- ORCID: http://orcid.org/0000-0002-4473-4052\\nAD  - Department of Molecular Biology and Genetics, Cornell University, Ithaca, United \\n      States.\\nFAU - Du, Jie\\nAU  - Du J\\nAD  - Center for Bioinformatics, Peking University, Beijing, China.\\nFAU - Clark, Andrew G\\nAU  - Clark AG\\nAD  - Department of Computational Biology, Cornell University, Ithaca, United States.\\nFAU - Messer, Philipp W\\nAU  - Messer PW\\nAUID- ORCID: http://orcid.org/0000-0001-8453-9377\\nAD  - Department of Computational Biology, Cornell University, Ithaca, United States.\\nLA  - eng\\nGR  - R21AI130635/NH/NIH HHS/United States\\nGR  - F32AI138476/NH/NIH HHS/United States\\nGR  - R01GM127418/NH/NIH HHS/United States\\nPT  - Journal Article\\nDEP - 20220922\\nPL  - England\\nTA  - Elife\\nJT  - eLife\\nJID - 101579614\\nSB  - IM\\nOTO - NOTNLM\\nOT  - D. melanogaster\\nOT  - evolutionary biology\\nOT  - genetics\\nOT  - genomics\\nCOIS- AL, JC, SL, LX, MM, SC, JL, YX, JD, AC The other authors declare that no\\n      competing interests exist. PM Philipp W Messer, Reviewing editor, eLife.\\nEDAT- 2022/09/23 06:00\\nMHDA- 2022/09/23 06:00\\nCRDT- 2022/09/22 09:52\\nPHST- 2021/06/30 00:00 [received]\\nPHST- 2022/09/08 00:00 [accepted]\\nPHST- 2022/09/22 09:52 [entrez]\\nPHST- 2022/09/23 06:00 [pubmed]\\nPHST- 2022/09/23 06:00 [medline]\\nAID - 10.7554/eLife.71809 [doi]\\nAID - 71809 [pii]\\nPST - aheadofprint\\nSO  - Elife. 2022 Sep 22;11. pii: 71809. doi: 10.7554/eLife.71809.\\n\""
      ]
     },
     "execution_count": 12,
     "metadata": {},
     "output_type": "execute_result"
    }
   ],
   "source": [
    "# plain text we need some processing to make it usefull\n",
    "paper_data"
   ]
  },
  {
   "cell_type": "code",
   "execution_count": 13,
   "id": "5e42160f",
   "metadata": {},
   "outputs": [
    {
     "data": {
      "text/plain": [
       "['',\n",
       " 'PMID- 36135925',\n",
       " 'OWN - NLM',\n",
       " 'STAT- Publisher',\n",
       " 'LR  - 20220922',\n",
       " 'IS  - 2050-084X (Electronic)',\n",
       " 'IS  - 2050-084X (Linking)',\n",
       " 'VI  - 11',\n",
       " 'DP  - 2022 Sep 22',\n",
       " 'TI  - Fitness effects of CRISPR endonucleases in Drosophila melanogaster populations.',\n",
       " 'LID - 10.7554/eLife.71809 [doi]',\n",
       " 'LID - e71809 [pii]',\n",
       " 'AB  - CRISPR/Cas9 provides a highly efficient and flexible genome editing technology',\n",
       " '      with numerous potential applications ranging from gene therapy to population',\n",
       " '      control. Some proposed applications involve the integration of CRISPR/Cas9',\n",
       " \"      endonucleases into an organism's genome, which raises questions about potentially\",\n",
       " '      harmful effects to the transgenic individuals. One example for which this is',\n",
       " '      particularly relevant are CRISPR-based gene drives conceived for the genetic',\n",
       " '      alteration of entire populations. The performance of such drives can strongly',\n",
       " '      depend on fitness costs experienced by drive carriers, yet relatively little is',\n",
       " '      known about the magnitude and causes of these costs. Here, we assess the fitness ',\n",
       " '      effects of genomic CRISPR/Cas9 expression in Drosophila melanogaster cage',\n",
       " '      populations by tracking allele frequencies of four different transgenic',\n",
       " \"      constructs that allow us to disentangle 'direct' fitness costs due to the\",\n",
       " '      integration, expression, and target-site activity of Cas9, from fitness costs due',\n",
       " '      to potential off-target cleavage. Using a maximum likelihood framework, we find',\n",
       " '      that a model with no direct fitness costs but moderate costs due to off-target',\n",
       " '      effects fits our cage data best. Consistent with this, we do not observe fitness ',\n",
       " '      costs for a construct with Cas9HF1, a high-fidelity version of Cas9. We further',\n",
       " '      demonstrate that using Cas9HF1 instead of standard Cas9 in a homing drive',\n",
       " '      achieves similar drive conversion efficiency. These results suggest that gene',\n",
       " '      drives should be designed with high-fidelity endonucleases and may have',\n",
       " '      implications for other applications that involve genomic integration of CRISPR',\n",
       " '      endonucleases.',\n",
       " 'CI  - (c) 2022, Langmuller et al.',\n",
       " 'FAU - Langmuller, Anna M',\n",
       " 'AU  - Langmuller AM',\n",
       " 'AUID- ORCID: http://orcid.org/0000-0002-6102-8862',\n",
       " 'AD  - Department of Computational Biology, Cornell University, Ithaca, United States.',\n",
       " 'FAU - Champer, Jackson',\n",
       " 'AU  - Champer J',\n",
       " 'AUID- ORCID: http://orcid.org/0000-0002-3814-3774',\n",
       " 'AD  - Center for Bioinformatics, Peking University, Beijing, China.',\n",
       " 'FAU - Lapinska, Sandra',\n",
       " 'AU  - Lapinska S',\n",
       " 'AD  - Department of Computational Biology, Cornell University, Ithaca, United States.',\n",
       " 'FAU - Xie, Lin',\n",
       " 'AU  - Xie L',\n",
       " 'AD  - Department of Computational Biology, Cornell University, Ithaca, United States.',\n",
       " 'FAU - Metzloff, Matthew',\n",
       " 'AU  - Metzloff M',\n",
       " 'AUID- ORCID: http://orcid.org/0000-0002-6108-5031',\n",
       " 'AD  - Department of Computational Biology, Cornell University, Ithaca, United States.',\n",
       " 'FAU - Champer, Samuel E',\n",
       " 'AU  - Champer SE',\n",
       " 'AUID- ORCID: http://orcid.org/0000-0002-4559-7627',\n",
       " 'AD  - Department of Computational Biology, Cornell University, Ithaca, United States.',\n",
       " 'FAU - Liu, Jingxian',\n",
       " 'AU  - Liu J',\n",
       " 'AUID- ORCID: http://orcid.org/0000-0002-2172-3297',\n",
       " 'AD  - Department of Biological Statistics, Cornell University, Ithaca, United States.',\n",
       " 'FAU - Xu, Yineng',\n",
       " 'AU  - Xu Y',\n",
       " 'AUID- ORCID: http://orcid.org/0000-0002-4473-4052',\n",
       " 'AD  - Department of Molecular Biology and Genetics, Cornell University, Ithaca, United ',\n",
       " '      States.',\n",
       " 'FAU - Du, Jie',\n",
       " 'AU  - Du J',\n",
       " 'AD  - Center for Bioinformatics, Peking University, Beijing, China.',\n",
       " 'FAU - Clark, Andrew G',\n",
       " 'AU  - Clark AG',\n",
       " 'AD  - Department of Computational Biology, Cornell University, Ithaca, United States.',\n",
       " 'FAU - Messer, Philipp W',\n",
       " 'AU  - Messer PW',\n",
       " 'AUID- ORCID: http://orcid.org/0000-0001-8453-9377',\n",
       " 'AD  - Department of Computational Biology, Cornell University, Ithaca, United States.',\n",
       " 'LA  - eng',\n",
       " 'GR  - R21AI130635/NH/NIH HHS/United States',\n",
       " 'GR  - F32AI138476/NH/NIH HHS/United States',\n",
       " 'GR  - R01GM127418/NH/NIH HHS/United States',\n",
       " 'PT  - Journal Article',\n",
       " 'DEP - 20220922',\n",
       " 'PL  - England',\n",
       " 'TA  - Elife',\n",
       " 'JT  - eLife',\n",
       " 'JID - 101579614',\n",
       " 'SB  - IM',\n",
       " 'OTO - NOTNLM',\n",
       " 'OT  - D. melanogaster',\n",
       " 'OT  - evolutionary biology',\n",
       " 'OT  - genetics',\n",
       " 'OT  - genomics',\n",
       " 'COIS- AL, JC, SL, LX, MM, SC, JL, YX, JD, AC The other authors declare that no',\n",
       " '      competing interests exist. PM Philipp W Messer, Reviewing editor, eLife.',\n",
       " 'EDAT- 2022/09/23 06:00',\n",
       " 'MHDA- 2022/09/23 06:00',\n",
       " 'CRDT- 2022/09/22 09:52',\n",
       " 'PHST- 2021/06/30 00:00 [received]',\n",
       " 'PHST- 2022/09/08 00:00 [accepted]',\n",
       " 'PHST- 2022/09/22 09:52 [entrez]',\n",
       " 'PHST- 2022/09/23 06:00 [pubmed]',\n",
       " 'PHST- 2022/09/23 06:00 [medline]',\n",
       " 'AID - 10.7554/eLife.71809 [doi]',\n",
       " 'AID - 71809 [pii]',\n",
       " 'PST - aheadofprint',\n",
       " 'SO  - Elife. 2022 Sep 22;11. pii: 71809. doi: 10.7554/eLife.71809.',\n",
       " '']"
      ]
     },
     "execution_count": 13,
     "metadata": {},
     "output_type": "execute_result"
    }
   ],
   "source": [
    "paper_data = paper_data.split('\\n')\n",
    "paper_data"
   ]
  },
  {
   "cell_type": "code",
   "execution_count": 14,
   "id": "697c2162",
   "metadata": {},
   "outputs": [
    {
     "data": {
      "text/plain": [
       "['PMID- 36135925',\n",
       " 'OWN - NLM',\n",
       " 'STAT- Publisher',\n",
       " 'LR  - 20220922',\n",
       " 'IS  - 2050-084X (Electronic)',\n",
       " 'IS  - 2050-084X (Linking)',\n",
       " 'VI  - 11',\n",
       " 'DP  - 2022 Sep 22',\n",
       " 'TI  - Fitness effects of CRISPR endonucleases in Drosophila melanogaster populations.',\n",
       " 'LID - 10.7554/eLife.71809 [doi]',\n",
       " 'LID - e71809 [pii]',\n",
       " \"AB  - CRISPR/Cas9 provides a highly efficient and flexible genome editing technologywith numerous potential applications ranging from gene therapy to populationcontrol. Some proposed applications involve the integration of CRISPR/Cas9endonucleases into an organism's genome, which raises questions about potentiallyharmful effects to the transgenic individuals. One example for which this isparticularly relevant are CRISPR-based gene drives conceived for the geneticalteration of entire populations. The performance of such drives can stronglydepend on fitness costs experienced by drive carriers, yet relatively little isknown about the magnitude and causes of these costs. Here, we assess the fitnesseffects of genomic CRISPR/Cas9 expression in Drosophila melanogaster cagepopulations by tracking allele frequencies of four different transgenicconstructs that allow us to disentangle 'direct' fitness costs due to theintegration, expression, and target-site activity of Cas9, from fitness costs dueto potential off-target cleavage. Using a maximum likelihood framework, we findthat a model with no direct fitness costs but moderate costs due to off-targeteffects fits our cage data best. Consistent with this, we do not observe fitnesscosts for a construct with Cas9HF1, a high-fidelity version of Cas9. We furtherdemonstrate that using Cas9HF1 instead of standard Cas9 in a homing driveachieves similar drive conversion efficiency. These results suggest that genedrives should be designed with high-fidelity endonucleases and may haveimplications for other applications that involve genomic integration of CRISPRendonucleases.\",\n",
       " 'CI  - (c) 2022, Langmuller et al.',\n",
       " 'FAU - Langmuller, Anna M',\n",
       " 'AU  - Langmuller AM',\n",
       " 'AUID- ORCID: http://orcid.org/0000-0002-6102-8862',\n",
       " 'AD  - Department of Computational Biology, Cornell University, Ithaca, United States.',\n",
       " 'FAU - Champer, Jackson',\n",
       " 'AU  - Champer J',\n",
       " 'AUID- ORCID: http://orcid.org/0000-0002-3814-3774',\n",
       " 'AD  - Center for Bioinformatics, Peking University, Beijing, China.',\n",
       " 'FAU - Lapinska, Sandra',\n",
       " 'AU  - Lapinska S',\n",
       " 'AD  - Department of Computational Biology, Cornell University, Ithaca, United States.',\n",
       " 'FAU - Xie, Lin',\n",
       " 'AU  - Xie L',\n",
       " 'AD  - Department of Computational Biology, Cornell University, Ithaca, United States.',\n",
       " 'FAU - Metzloff, Matthew',\n",
       " 'AU  - Metzloff M',\n",
       " 'AUID- ORCID: http://orcid.org/0000-0002-6108-5031',\n",
       " 'AD  - Department of Computational Biology, Cornell University, Ithaca, United States.',\n",
       " 'FAU - Champer, Samuel E',\n",
       " 'AU  - Champer SE',\n",
       " 'AUID- ORCID: http://orcid.org/0000-0002-4559-7627',\n",
       " 'AD  - Department of Computational Biology, Cornell University, Ithaca, United States.',\n",
       " 'FAU - Liu, Jingxian',\n",
       " 'AU  - Liu J',\n",
       " 'AUID- ORCID: http://orcid.org/0000-0002-2172-3297',\n",
       " 'AD  - Department of Biological Statistics, Cornell University, Ithaca, United States.',\n",
       " 'FAU - Xu, Yineng',\n",
       " 'AU  - Xu Y',\n",
       " 'AUID- ORCID: http://orcid.org/0000-0002-4473-4052',\n",
       " 'AD  - Department of Molecular Biology and Genetics, Cornell University, Ithaca, UnitedStates.',\n",
       " 'FAU - Du, Jie',\n",
       " 'AU  - Du J',\n",
       " 'AD  - Center for Bioinformatics, Peking University, Beijing, China.',\n",
       " 'FAU - Clark, Andrew G',\n",
       " 'AU  - Clark AG',\n",
       " 'AD  - Department of Computational Biology, Cornell University, Ithaca, United States.',\n",
       " 'FAU - Messer, Philipp W',\n",
       " 'AU  - Messer PW',\n",
       " 'AUID- ORCID: http://orcid.org/0000-0001-8453-9377',\n",
       " 'AD  - Department of Computational Biology, Cornell University, Ithaca, United States.',\n",
       " 'LA  - eng',\n",
       " 'GR  - R21AI130635/NH/NIH HHS/United States',\n",
       " 'GR  - F32AI138476/NH/NIH HHS/United States',\n",
       " 'GR  - R01GM127418/NH/NIH HHS/United States',\n",
       " 'PT  - Journal Article',\n",
       " 'DEP - 20220922',\n",
       " 'PL  - England',\n",
       " 'TA  - Elife',\n",
       " 'JT  - eLife',\n",
       " 'JID - 101579614',\n",
       " 'SB  - IM',\n",
       " 'OTO - NOTNLM',\n",
       " 'OT  - D. melanogaster',\n",
       " 'OT  - evolutionary biology',\n",
       " 'OT  - genetics',\n",
       " 'OT  - genomics',\n",
       " 'COIS- AL, JC, SL, LX, MM, SC, JL, YX, JD, AC The other authors declare that nocompeting interests exist. PM Philipp W Messer, Reviewing editor, eLife.',\n",
       " 'EDAT- 2022/09/23 06:00',\n",
       " 'MHDA- 2022/09/23 06:00',\n",
       " 'CRDT- 2022/09/22 09:52',\n",
       " 'PHST- 2021/06/30 00:00 [received]',\n",
       " 'PHST- 2022/09/08 00:00 [accepted]',\n",
       " 'PHST- 2022/09/22 09:52 [entrez]',\n",
       " 'PHST- 2022/09/23 06:00 [pubmed]',\n",
       " 'PHST- 2022/09/23 06:00 [medline]',\n",
       " 'AID - 10.7554/eLife.71809 [doi]',\n",
       " 'AID - 71809 [pii]',\n",
       " 'PST - aheadofprint',\n",
       " 'SO  - Elife. 2022 Sep 22;11. pii: 71809. doi: 10.7554/eLife.71809.']"
      ]
     },
     "execution_count": 14,
     "metadata": {},
     "output_type": "execute_result"
    }
   ],
   "source": [
    "ls = []\n",
    "for elem in paper_data:\n",
    "    if elem == '':\n",
    "        continue\n",
    "    elif elem[0:4] != '    ':\n",
    "        elem = elem.strip()\n",
    "        elem = elem.replace('\\n', '')\n",
    "        ls.append(elem)\n",
    "    else:\n",
    "        elem = elem.strip()\n",
    "        elem = elem.replace('\\n', '')\n",
    "        ls[-1] = ls[-1] + elem\n",
    "ls"
   ]
  },
  {
   "cell_type": "code",
   "execution_count": 15,
   "id": "3d6a8d31",
   "metadata": {},
   "outputs": [
    {
     "data": {
      "text/plain": [
       "[['PMID', '36135925'],\n",
       " ['OWN', 'NLM'],\n",
       " ['STAT', 'Publisher'],\n",
       " ['LR', '20220922'],\n",
       " ['IS', '2050-084X (Electronic)'],\n",
       " ['IS', '2050-084X (Linking)'],\n",
       " ['VI', '11'],\n",
       " ['DP', '2022 Sep 22'],\n",
       " ['TI',\n",
       "  'Fitness effects of CRISPR endonucleases in Drosophila melanogaster populations.'],\n",
       " ['LID', '10.7554/eLife.71809 [doi]'],\n",
       " ['LID', 'e71809 [pii]'],\n",
       " ['AB',\n",
       "  \"CRISPR/Cas9 provides a highly efficient and flexible genome editing technologywith numerous potential applications ranging from gene therapy to populationcontrol. Some proposed applications involve the integration of CRISPR/Cas9endonucleases into an organism's genome, which raises questions about potentiallyharmful effects to the transgenic individuals. One example for which this isparticularly relevant are CRISPR-based gene drives conceived for the geneticalteration of entire populations. The performance of such drives can stronglydepend on fitness costs experienced by drive carriers, yet relatively little isknown about the magnitude and causes of these costs. Here, we assess the fitnesseffects of genomic CRISPR/Cas9 expression in Drosophila melanogaster cagepopulations by tracking allele frequencies of four different transgenicconstructs that allow us to disentangle 'direct' fitness costs due to theintegration, expression, and target-site activity of Cas9, from fitness costs dueto potential off-target cleavage. Using a maximum likelihood framework, we findthat a model with no direct fitness costs but moderate costs due to off-targeteffects fits our cage data best. Consistent with this, we do not observe fitnesscosts for a construct with Cas9HF1, a high-fidelity version of Cas9. We furtherdemonstrate that using Cas9HF1 instead of standard Cas9 in a homing driveachieves similar drive conversion efficiency. These results suggest that genedrives should be designed with high-fidelity endonucleases and may haveimplications for other applications that involve genomic integration of CRISPRendonucleases.\"],\n",
       " ['CI', '(c) 2022, Langmuller et al.'],\n",
       " ['FAU', 'Langmuller, Anna M'],\n",
       " ['AU', 'Langmuller AM'],\n",
       " ['AUID', 'ORCID: http://orcid.org/0000-0002-6102-8862'],\n",
       " ['AD',\n",
       "  'Department of Computational Biology, Cornell University, Ithaca, United States.'],\n",
       " ['FAU', 'Champer, Jackson'],\n",
       " ['AU', 'Champer J'],\n",
       " ['AUID', 'ORCID: http://orcid.org/0000-0002-3814-3774'],\n",
       " ['AD', 'Center for Bioinformatics, Peking University, Beijing, China.'],\n",
       " ['FAU', 'Lapinska, Sandra'],\n",
       " ['AU', 'Lapinska S'],\n",
       " ['AD',\n",
       "  'Department of Computational Biology, Cornell University, Ithaca, United States.'],\n",
       " ['FAU', 'Xie, Lin'],\n",
       " ['AU', 'Xie L'],\n",
       " ['AD',\n",
       "  'Department of Computational Biology, Cornell University, Ithaca, United States.'],\n",
       " ['FAU', 'Metzloff, Matthew'],\n",
       " ['AU', 'Metzloff M'],\n",
       " ['AUID', 'ORCID: http://orcid.org/0000-0002-6108-5031'],\n",
       " ['AD',\n",
       "  'Department of Computational Biology, Cornell University, Ithaca, United States.'],\n",
       " ['FAU', 'Champer, Samuel E'],\n",
       " ['AU', 'Champer SE'],\n",
       " ['AUID', 'ORCID: http://orcid.org/0000-0002-4559-7627'],\n",
       " ['AD',\n",
       "  'Department of Computational Biology, Cornell University, Ithaca, United States.'],\n",
       " ['FAU', 'Liu, Jingxian'],\n",
       " ['AU', 'Liu J'],\n",
       " ['AUID', 'ORCID: http://orcid.org/0000-0002-2172-3297'],\n",
       " ['AD',\n",
       "  'Department of Biological Statistics, Cornell University, Ithaca, United States.'],\n",
       " ['FAU', 'Xu, Yineng'],\n",
       " ['AU', 'Xu Y'],\n",
       " ['AUID', 'ORCID: http://orcid.org/0000-0002-4473-4052'],\n",
       " ['AD',\n",
       "  'Department of Molecular Biology and Genetics, Cornell University, Ithaca, UnitedStates.'],\n",
       " ['FAU', 'Du, Jie'],\n",
       " ['AU', 'Du J'],\n",
       " ['AD', 'Center for Bioinformatics, Peking University, Beijing, China.'],\n",
       " ['FAU', 'Clark, Andrew G'],\n",
       " ['AU', 'Clark AG'],\n",
       " ['AD',\n",
       "  'Department of Computational Biology, Cornell University, Ithaca, United States.'],\n",
       " ['FAU', 'Messer, Philipp W'],\n",
       " ['AU', 'Messer PW'],\n",
       " ['AUID', 'ORCID: http://orcid.org/0000-0001-8453-9377'],\n",
       " ['AD',\n",
       "  'Department of Computational Biology, Cornell University, Ithaca, United States.'],\n",
       " ['LA', 'eng'],\n",
       " ['GR', 'R21AI130635/NH/NIH HHS/United States'],\n",
       " ['GR', 'F32AI138476/NH/NIH HHS/United States'],\n",
       " ['GR', 'R01GM127418/NH/NIH HHS/United States'],\n",
       " ['PT', 'Journal Article'],\n",
       " ['DEP', '20220922'],\n",
       " ['PL', 'England'],\n",
       " ['TA', 'Elife'],\n",
       " ['JT', 'eLife'],\n",
       " ['JID', '101579614'],\n",
       " ['SB', 'IM'],\n",
       " ['OTO', 'NOTNLM'],\n",
       " ['OT', 'D. melanogaster'],\n",
       " ['OT', 'evolutionary biology'],\n",
       " ['OT', 'genetics'],\n",
       " ['OT', 'genomics'],\n",
       " ['COIS',\n",
       "  'AL, JC, SL, LX, MM, SC, JL, YX, JD, AC The other authors declare that nocompeting interests exist. PM Philipp W Messer, Reviewing editor, eLife.'],\n",
       " ['EDAT', '2022/09/23 06:00'],\n",
       " ['MHDA', '2022/09/23 06:00'],\n",
       " ['CRDT', '2022/09/22 09:52'],\n",
       " ['PHST', '2021/06/30 00:00 [received]'],\n",
       " ['PHST', '2022/09/08 00:00 [accepted]'],\n",
       " ['PHST', '2022/09/22 09:52 [entrez]'],\n",
       " ['PHST', '2022/09/23 06:00 [pubmed]'],\n",
       " ['PHST', '2022/09/23 06:00 [medline]'],\n",
       " ['AID', '10.7554/eLife.71809 [doi]'],\n",
       " ['AID', '71809 [pii]'],\n",
       " ['PST', 'aheadofprint'],\n",
       " ['SO', 'Elife. 2022 Sep 22;11. pii: 71809. doi: 10.7554/eLife.71809.']]"
      ]
     },
     "execution_count": 15,
     "metadata": {},
     "output_type": "execute_result"
    }
   ],
   "source": [
    "ls_2 = [] \n",
    "for elem in ls:\n",
    "    key = elem[0:4].strip()\n",
    "    value = elem[5:].strip()\n",
    "        \n",
    "    ls_2.append([key, value])\n",
    "ls_2"
   ]
  },
  {
   "cell_type": "code",
   "execution_count": 16,
   "id": "f614da8c",
   "metadata": {},
   "outputs": [
    {
     "name": "stdout",
     "output_type": "stream",
     "text": [
      "Pubblication date: 2022 Sep 22\n",
      "Title: Fitness effects of CRISPR endonucleases in Drosophila melanogaster populations.\n"
     ]
    }
   ],
   "source": [
    "# the first element is the tag\n",
    "# the seconf element is the content\n",
    "# here are the tags definitions https://www.nlm.nih.gov/bsd/mms/medlineelements.html\n",
    "\n",
    "for elem in ls_2:\n",
    "    if elem[0] == 'TI':\n",
    "        print('Title: ' + elem[1])\n",
    "    elif elem[0] == 'DP':\n",
    "        print('Pubblication date: ' + elem[1])\n",
    "        "
   ]
  },
  {
   "cell_type": "code",
   "execution_count": 17,
   "id": "5f87a2dc",
   "metadata": {},
   "outputs": [],
   "source": [
    "# once you have the data you can store them in a csv file with pandas"
   ]
  }
 ],
 "metadata": {
  "kernelspec": {
   "display_name": "Python 3 (ipykernel)",
   "language": "python",
   "name": "python3"
  },
  "language_info": {
   "codemirror_mode": {
    "name": "ipython",
    "version": 3
   },
   "file_extension": ".py",
   "mimetype": "text/x-python",
   "name": "python",
   "nbconvert_exporter": "python",
   "pygments_lexer": "ipython3",
   "version": "3.10.7"
  }
 },
 "nbformat": 4,
 "nbformat_minor": 5
}
