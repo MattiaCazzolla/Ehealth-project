{
 "cells": [
  {
   "cell_type": "markdown",
   "id": "a9a6a507",
   "metadata": {},
   "source": [
    "# PubMed API Tutorial"
   ]
  },
  {
   "cell_type": "markdown",
   "id": "9cfad6ff",
   "metadata": {},
   "source": [
    "Write a program that creates a database of PubMed articles corresponding to a specific search string\n",
    "- Define the structure of your database\n",
    "- Explot the ENTREZ API to fetch the target information\n",
    "- Process the ENTREZ output into your own data structure"
   ]
  },
  {
   "cell_type": "code",
   "execution_count": 1,
   "id": "7e4ad24b",
   "metadata": {},
   "outputs": [],
   "source": [
    "import requests\n",
    "import json"
   ]
  },
  {
   "cell_type": "code",
   "execution_count": 2,
   "id": "34667703",
   "metadata": {},
   "outputs": [],
   "source": [
    "# what we would like to search on pubmed\n",
    "search_term = 'ai'\n",
    "\n",
    "# good practice when dealing with user input\n",
    "# it removes any spaces before and after the string\n",
    "search_term = search_term.strip()\n",
    "\n",
    "# also pubmed api doesn't suppor spaces\n",
    "# so we replace them with +\n",
    "search_term = search_term.replace(' ', '+')"
   ]
  },
  {
   "cell_type": "markdown",
   "id": "dcac1b09",
   "metadata": {},
   "source": [
    "## ESEARCH"
   ]
  },
  {
   "cell_type": "markdown",
   "id": "4161c62e",
   "metadata": {},
   "source": [
    "Portion of the API that provide a list of UIDs matching a text query <br>\n",
    "Require some parameters to be passed with the url:\n",
    "- **db**: where to look for, in our case is pubmed\n",
    "- **term**: the actual text query (user input)\n",
    "- **retmode**: the output format (xml, html, json ...)\n",
    "- **retmax**: how many UIDs to return (max 100.000 for one API call)\n",
    "- **retstart**: from what UID index start to retrieve (important if we want to retrieve more that 100000 UIDs)\n",
    "\n",
    "Here the documentation : https://www.nlm.nih.gov/dataguide/eutilities/utilities.html#esearch"
   ]
  },
  {
   "cell_type": "code",
   "execution_count": 3,
   "id": "2f0ab58d",
   "metadata": {},
   "outputs": [],
   "source": [
    "# create the url for the api with the parameters we want\n",
    "base_url = 'https://eutils.ncbi.nlm.nih.gov/entrez/eutils/esearch.fcgi'\n",
    "db = '?db=pubmed'\n",
    "term = '&term=' + search_term\n",
    "retmode = '&retmode=json' # json easier than xlm\n",
    "retstart = '&retstart=0' # not really necessary\n",
    "retmax = '&retmax=20' # only retireve 20 papers for this example"
   ]
  },
  {
   "cell_type": "code",
   "execution_count": 4,
   "id": "fe68b3e8",
   "metadata": {},
   "outputs": [
    {
     "name": "stdout",
     "output_type": "stream",
     "text": [
      "https://eutils.ncbi.nlm.nih.gov/entrez/eutils/esearch.fcgi?db=pubmed&term=ai&retmode=json&retstart=0&retmax=20\n"
     ]
    }
   ],
   "source": [
    "# the order, beside base_url, do not matter\n",
    "url = base_url + db + term + retmode + retstart + retmax\n",
    "print(url)"
   ]
  },
  {
   "cell_type": "code",
   "execution_count": 6,
   "id": "465bdb63",
   "metadata": {},
   "outputs": [
    {
     "data": {
      "text/plain": [
       "b'{\"header\":{\"type\":\"esearch\",\"version\":\"0.3\"},\"esearchresult\":{\"count\":\"1031453\",\"retmax\":\"20\",\"retstart\":\"0\",\"idlist\":[\"36171009\",\"36170987\",\"36170945\",\"36170897\",\"36170852\",\"36170434\",\"36170385\",\"36170283\",\"36170272\",\"36170116\",\"36169999\",\"36169916\",\"36169732\",\"36169667\",\"36169657\",\"36169223\",\"36169126\",\"36168938\",\"36168896\",\"36168719\"],\"translationset\":[{\"from\":\"ai\",\"to\":\"\\\\\"antagonists and inhibitors\\\\\"[Subheading] OR (\\\\\"antagonists\\\\\"[All Fields] AND \\\\\"inhibitors\\\\\"[All Fields]) OR \\\\\"antagonists and inhibitors\\\\\"[All Fields] OR \\\\\"ai\\\\\"[All Fields]\"}],\"translationstack\":[{\"term\":\"\\\\\"antagonists and inhibitors\\\\\"[Subheading]\",\"field\":\"Subheading\",\"count\":\"617294\",\"explode\":\"Y\"},{\"term\":\"\\\\\"antagonists\\\\\"[All Fields]\",\"field\":\"All Fields\",\"count\":\"894130\",\"explode\":\"N\"},{\"term\":\"\\\\\"inhibitors\\\\\"[All Fields]\",\"field\":\"All Fields\",\"count\":\"1330727\",\"explode\":\"N\"},\"AND\",\"GROUP\",\"OR\",{\"term\":\"\\\\\"antagonists and inhibitors\\\\\"[All Fields]\",\"field\":\"All Fields\",\"count\":\"617414\",\"explode\":\"N\"},\"OR\",{\"term\":\"\\\\\"ai\\\\\"[All Fields]\",\"field\":\"All Fields\",\"count\":\"386646\",\"explode\":\"N\"},\"OR\",\"GROUP\"],\"querytranslation\":\"\\\\\"antagonists and inhibitors\\\\\"[Subheading] OR (\\\\\"antagonists\\\\\"[All Fields] AND \\\\\"inhibitors\\\\\"[All Fields]) OR \\\\\"antagonists and inhibitors\\\\\"[All Fields] OR \\\\\"ai\\\\\"[All Fields]\"}}\\n'"
      ]
     },
     "execution_count": 6,
     "metadata": {},
     "output_type": "execute_result"
    }
   ],
   "source": [
    "# we request the site's content (what we see if we click the link)\n",
    "# result is in binary (we see it from the first character being b)\n",
    "site = requests.get(url).content\n",
    "site"
   ]
  },
  {
   "cell_type": "code",
   "execution_count": 7,
   "id": "e05c0542",
   "metadata": {},
   "outputs": [
    {
     "data": {
      "text/plain": [
       "'{\"header\":{\"type\":\"esearch\",\"version\":\"0.3\"},\"esearchresult\":{\"count\":\"1031453\",\"retmax\":\"20\",\"retstart\":\"0\",\"idlist\":[\"36171009\",\"36170987\",\"36170945\",\"36170897\",\"36170852\",\"36170434\",\"36170385\",\"36170283\",\"36170272\",\"36170116\",\"36169999\",\"36169916\",\"36169732\",\"36169667\",\"36169657\",\"36169223\",\"36169126\",\"36168938\",\"36168896\",\"36168719\"],\"translationset\":[{\"from\":\"ai\",\"to\":\"\\\\\"antagonists and inhibitors\\\\\"[Subheading] OR (\\\\\"antagonists\\\\\"[All Fields] AND \\\\\"inhibitors\\\\\"[All Fields]) OR \\\\\"antagonists and inhibitors\\\\\"[All Fields] OR \\\\\"ai\\\\\"[All Fields]\"}],\"translationstack\":[{\"term\":\"\\\\\"antagonists and inhibitors\\\\\"[Subheading]\",\"field\":\"Subheading\",\"count\":\"617294\",\"explode\":\"Y\"},{\"term\":\"\\\\\"antagonists\\\\\"[All Fields]\",\"field\":\"All Fields\",\"count\":\"894130\",\"explode\":\"N\"},{\"term\":\"\\\\\"inhibitors\\\\\"[All Fields]\",\"field\":\"All Fields\",\"count\":\"1330727\",\"explode\":\"N\"},\"AND\",\"GROUP\",\"OR\",{\"term\":\"\\\\\"antagonists and inhibitors\\\\\"[All Fields]\",\"field\":\"All Fields\",\"count\":\"617414\",\"explode\":\"N\"},\"OR\",{\"term\":\"\\\\\"ai\\\\\"[All Fields]\",\"field\":\"All Fields\",\"count\":\"386646\",\"explode\":\"N\"},\"OR\",\"GROUP\"],\"querytranslation\":\"\\\\\"antagonists and inhibitors\\\\\"[Subheading] OR (\\\\\"antagonists\\\\\"[All Fields] AND \\\\\"inhibitors\\\\\"[All Fields]) OR \\\\\"antagonists and inhibitors\\\\\"[All Fields] OR \\\\\"ai\\\\\"[All Fields]\"}}\\n'"
      ]
     },
     "execution_count": 7,
     "metadata": {},
     "output_type": "execute_result"
    }
   ],
   "source": [
    "# convert the binary in string\n",
    "site = site.decode()\n",
    "site"
   ]
  },
  {
   "cell_type": "code",
   "execution_count": 8,
   "id": "30fc5b59",
   "metadata": {},
   "outputs": [
    {
     "data": {
      "text/plain": [
       "{'header': {'type': 'esearch', 'version': '0.3'},\n",
       " 'esearchresult': {'count': '1031453',\n",
       "  'retmax': '20',\n",
       "  'retstart': '0',\n",
       "  'idlist': ['36171009',\n",
       "   '36170987',\n",
       "   '36170945',\n",
       "   '36170897',\n",
       "   '36170852',\n",
       "   '36170434',\n",
       "   '36170385',\n",
       "   '36170283',\n",
       "   '36170272',\n",
       "   '36170116',\n",
       "   '36169999',\n",
       "   '36169916',\n",
       "   '36169732',\n",
       "   '36169667',\n",
       "   '36169657',\n",
       "   '36169223',\n",
       "   '36169126',\n",
       "   '36168938',\n",
       "   '36168896',\n",
       "   '36168719'],\n",
       "  'translationset': [{'from': 'ai',\n",
       "    'to': '\"antagonists and inhibitors\"[Subheading] OR (\"antagonists\"[All Fields] AND \"inhibitors\"[All Fields]) OR \"antagonists and inhibitors\"[All Fields] OR \"ai\"[All Fields]'}],\n",
       "  'translationstack': [{'term': '\"antagonists and inhibitors\"[Subheading]',\n",
       "    'field': 'Subheading',\n",
       "    'count': '617294',\n",
       "    'explode': 'Y'},\n",
       "   {'term': '\"antagonists\"[All Fields]',\n",
       "    'field': 'All Fields',\n",
       "    'count': '894130',\n",
       "    'explode': 'N'},\n",
       "   {'term': '\"inhibitors\"[All Fields]',\n",
       "    'field': 'All Fields',\n",
       "    'count': '1330727',\n",
       "    'explode': 'N'},\n",
       "   'AND',\n",
       "   'GROUP',\n",
       "   'OR',\n",
       "   {'term': '\"antagonists and inhibitors\"[All Fields]',\n",
       "    'field': 'All Fields',\n",
       "    'count': '617414',\n",
       "    'explode': 'N'},\n",
       "   'OR',\n",
       "   {'term': '\"ai\"[All Fields]',\n",
       "    'field': 'All Fields',\n",
       "    'count': '386646',\n",
       "    'explode': 'N'},\n",
       "   'OR',\n",
       "   'GROUP'],\n",
       "  'querytranslation': '\"antagonists and inhibitors\"[Subheading] OR (\"antagonists\"[All Fields] AND \"inhibitors\"[All Fields]) OR \"antagonists and inhibitors\"[All Fields] OR \"ai\"[All Fields]'}}"
      ]
     },
     "execution_count": 8,
     "metadata": {},
     "output_type": "execute_result"
    }
   ],
   "source": [
    "# convert in json\n",
    "# the string is already formatted as a json\n",
    "json_site = json.loads(site)\n",
    "json_site"
   ]
  },
  {
   "cell_type": "code",
   "execution_count": 22,
   "id": "89430c30",
   "metadata": {},
   "outputs": [
    {
     "data": {
      "text/plain": [
       "['36171009',\n",
       " '36170987',\n",
       " '36170945',\n",
       " '36170897',\n",
       " '36170852',\n",
       " '36170434',\n",
       " '36170385',\n",
       " '36170283',\n",
       " '36170272',\n",
       " '36170116',\n",
       " '36169999',\n",
       " '36169916',\n",
       " '36169732',\n",
       " '36169667',\n",
       " '36169657',\n",
       " '36169223',\n",
       " '36169126',\n",
       " '36168938',\n",
       " '36168896',\n",
       " '36168719']"
      ]
     },
     "execution_count": 22,
     "metadata": {},
     "output_type": "execute_result"
    }
   ],
   "source": [
    "# we only want the idlist\n",
    "UIDs = json_site['esearchresult']['idlist']\n",
    "UIDs"
   ]
  },
  {
   "cell_type": "markdown",
   "id": "d25c2f52",
   "metadata": {},
   "source": [
    "So now we have retireved the UIDs from a search <br>\n",
    "For each UID we want to get some information: title, authors, doi ..."
   ]
  },
  {
   "cell_type": "markdown",
   "id": "66fdc277",
   "metadata": {},
   "source": [
    "## EFETCH"
   ]
  },
  {
   "cell_type": "markdown",
   "id": "8e11483c",
   "metadata": {},
   "source": [
    "Portion of the API that given a UID return formatted data records. <br>\n",
    "It require some parameter:\n",
    "- **db**: the database (our case pubmed)\n",
    "- **uid**: the UID whose data we want to retrieve\n",
    "- **retmode**/**rettype**: determine how your results will be displayed\n",
    "\n",
    "Here the doucmentation: https://www.nlm.nih.gov/dataguide/eutilities/utilities.html#efetch"
   ]
  },
  {
   "cell_type": "code",
   "execution_count": 10,
   "id": "26a7ad7d",
   "metadata": {},
   "outputs": [],
   "source": [
    "# create the url for the api with the parameters we want\n",
    "base_url = 'https://eutils.ncbi.nlm.nih.gov/entrez/eutils/efetch.fcgi'\n",
    "db = '?db=pubmed'\n",
    "uid = '&id=' + str(36135925) # just a random one, in reality we want to use the ones we retieved above\n",
    "rettype = '&rettype=medline' # medline more structured than xml"
   ]
  },
  {
   "cell_type": "code",
   "execution_count": 11,
   "id": "0e4023c7",
   "metadata": {},
   "outputs": [
    {
     "name": "stdout",
     "output_type": "stream",
     "text": [
      "https://eutils.ncbi.nlm.nih.gov/entrez/eutils/efetch.fcgi?db=pubmed&id=36135925&rettype=medline\n"
     ]
    }
   ],
   "source": [
    "url = base_url + db + uid + rettype\n",
    "print(url)"
   ]
  },
  {
   "cell_type": "markdown",
   "id": "51938cd2",
   "metadata": {},
   "source": [
    "By clicking the link you can see that the data is structured in the following way: <br>\n",
    "**TAG - CONTENT** <br>\n",
    "Here are defined all the possible tags https://www.nlm.nih.gov/bsd/mms/medlineelements.html"
   ]
  },
  {
   "cell_type": "code",
   "execution_count": 13,
   "id": "b8ad62ac",
   "metadata": {},
   "outputs": [],
   "source": [
    "# we retieve the data as we did above with ESEARCH\n",
    "paper_data = requests.get(url).content\n",
    "paper_data = paper_data.decode()"
   ]
  },
  {
   "cell_type": "code",
   "execution_count": 14,
   "id": "59dfe8c9",
   "metadata": {},
   "outputs": [
    {
     "data": {
      "text/plain": [
       "\"\\nPMID- 36135925\\nOWN - NLM\\nSTAT- Publisher\\nLR  - 20220922\\nIS  - 2050-084X (Electronic)\\nIS  - 2050-084X (Linking)\\nVI  - 11\\nDP  - 2022 Sep 22\\nTI  - Fitness effects of CRISPR endonucleases in Drosophila melanogaster populations.\\nLID - 10.7554/eLife.71809 [doi]\\nLID - e71809 [pii]\\nAB  - CRISPR/Cas9 provides a highly efficient and flexible genome editing technology\\n      with numerous potential applications ranging from gene therapy to population\\n      control. Some proposed applications involve the integration of CRISPR/Cas9\\n      endonucleases into an organism's genome, which raises questions about potentially\\n      harmful effects to the transgenic individuals. One example for which this is\\n      particularly relevant are CRISPR-based gene drives conceived for the genetic\\n      alteration of entire populations. The performance of such drives can strongly\\n      depend on fitness costs experienced by drive carriers, yet relatively little is\\n      known about the magnitude and causes of these costs. Here, we assess the fitness \\n      effects of genomic CRISPR/Cas9 expression in Drosophila melanogaster cage\\n      populations by tracking allele frequencies of four different transgenic\\n      constructs that allow us to disentangle 'direct' fitness costs due to the\\n      integration, expression, and target-site activity of Cas9, from fitness costs due\\n      to potential off-target cleavage. Using a maximum likelihood framework, we find\\n      that a model with no direct fitness costs but moderate costs due to off-target\\n      effects fits our cage data best. Consistent with this, we do not observe fitness \\n      costs for a construct with Cas9HF1, a high-fidelity version of Cas9. We further\\n      demonstrate that using Cas9HF1 instead of standard Cas9 in a homing drive\\n      achieves similar drive conversion efficiency. These results suggest that gene\\n      drives should be designed with high-fidelity endonucleases and may have\\n      implications for other applications that involve genomic integration of CRISPR\\n      endonucleases.\\nCI  - (c) 2022, Langmuller et al.\\nFAU - Langmuller, Anna M\\nAU  - Langmuller AM\\nAUID- ORCID: http://orcid.org/0000-0002-6102-8862\\nAD  - Department of Computational Biology, Cornell University, Ithaca, United States.\\nFAU - Champer, Jackson\\nAU  - Champer J\\nAUID- ORCID: http://orcid.org/0000-0002-3814-3774\\nAD  - Center for Bioinformatics, Peking University, Beijing, China.\\nFAU - Lapinska, Sandra\\nAU  - Lapinska S\\nAD  - Department of Computational Biology, Cornell University, Ithaca, United States.\\nFAU - Xie, Lin\\nAU  - Xie L\\nAD  - Department of Computational Biology, Cornell University, Ithaca, United States.\\nFAU - Metzloff, Matthew\\nAU  - Metzloff M\\nAUID- ORCID: http://orcid.org/0000-0002-6108-5031\\nAD  - Department of Computational Biology, Cornell University, Ithaca, United States.\\nFAU - Champer, Samuel E\\nAU  - Champer SE\\nAUID- ORCID: http://orcid.org/0000-0002-4559-7627\\nAD  - Department of Computational Biology, Cornell University, Ithaca, United States.\\nFAU - Liu, Jingxian\\nAU  - Liu J\\nAUID- ORCID: http://orcid.org/0000-0002-2172-3297\\nAD  - Department of Biological Statistics, Cornell University, Ithaca, United States.\\nFAU - Xu, Yineng\\nAU  - Xu Y\\nAUID- ORCID: http://orcid.org/0000-0002-4473-4052\\nAD  - Department of Molecular Biology and Genetics, Cornell University, Ithaca, United \\n      States.\\nFAU - Du, Jie\\nAU  - Du J\\nAD  - Center for Bioinformatics, Peking University, Beijing, China.\\nFAU - Clark, Andrew G\\nAU  - Clark AG\\nAD  - Department of Computational Biology, Cornell University, Ithaca, United States.\\nFAU - Messer, Philipp W\\nAU  - Messer PW\\nAUID- ORCID: http://orcid.org/0000-0001-8453-9377\\nAD  - Department of Computational Biology, Cornell University, Ithaca, United States.\\nLA  - eng\\nGR  - R21AI130635/NH/NIH HHS/United States\\nGR  - F32AI138476/NH/NIH HHS/United States\\nGR  - R01GM127418/NH/NIH HHS/United States\\nPT  - Journal Article\\nDEP - 20220922\\nPL  - England\\nTA  - Elife\\nJT  - eLife\\nJID - 101579614\\nSB  - IM\\nOTO - NOTNLM\\nOT  - D. melanogaster\\nOT  - evolutionary biology\\nOT  - genetics\\nOT  - genomics\\nCOIS- AL, JC, SL, LX, MM, SC, JL, YX, JD, AC The other authors declare that no\\n      competing interests exist. PM Philipp W Messer, Reviewing editor, eLife.\\nEDAT- 2022/09/23 06:00\\nMHDA- 2022/09/23 06:00\\nCRDT- 2022/09/22 09:52\\nPHST- 2021/06/30 00:00 [received]\\nPHST- 2022/09/08 00:00 [accepted]\\nPHST- 2022/09/22 09:52 [entrez]\\nPHST- 2022/09/23 06:00 [pubmed]\\nPHST- 2022/09/23 06:00 [medline]\\nAID - 10.7554/eLife.71809 [doi]\\nAID - 71809 [pii]\\nPST - aheadofprint\\nSO  - Elife. 2022 Sep 22;11. pii: 71809. doi: 10.7554/eLife.71809.\\n\""
      ]
     },
     "execution_count": 14,
     "metadata": {},
     "output_type": "execute_result"
    }
   ],
   "source": [
    "# the data is in plain text\n",
    "# we need to process it into a more digestible structure\n",
    "paper_data"
   ]
  },
  {
   "cell_type": "code",
   "execution_count": 15,
   "id": "5e42160f",
   "metadata": {},
   "outputs": [
    {
     "data": {
      "text/plain": [
       "['',\n",
       " 'PMID- 36135925',\n",
       " 'OWN - NLM',\n",
       " 'STAT- Publisher',\n",
       " 'LR  - 20220922',\n",
       " 'IS  - 2050-084X (Electronic)',\n",
       " 'IS  - 2050-084X (Linking)',\n",
       " 'VI  - 11',\n",
       " 'DP  - 2022 Sep 22',\n",
       " 'TI  - Fitness effects of CRISPR endonucleases in Drosophila melanogaster populations.',\n",
       " 'LID - 10.7554/eLife.71809 [doi]',\n",
       " 'LID - e71809 [pii]',\n",
       " 'AB  - CRISPR/Cas9 provides a highly efficient and flexible genome editing technology',\n",
       " '      with numerous potential applications ranging from gene therapy to population',\n",
       " '      control. Some proposed applications involve the integration of CRISPR/Cas9',\n",
       " \"      endonucleases into an organism's genome, which raises questions about potentially\",\n",
       " '      harmful effects to the transgenic individuals. One example for which this is',\n",
       " '      particularly relevant are CRISPR-based gene drives conceived for the genetic',\n",
       " '      alteration of entire populations. The performance of such drives can strongly',\n",
       " '      depend on fitness costs experienced by drive carriers, yet relatively little is',\n",
       " '      known about the magnitude and causes of these costs. Here, we assess the fitness ',\n",
       " '      effects of genomic CRISPR/Cas9 expression in Drosophila melanogaster cage',\n",
       " '      populations by tracking allele frequencies of four different transgenic',\n",
       " \"      constructs that allow us to disentangle 'direct' fitness costs due to the\",\n",
       " '      integration, expression, and target-site activity of Cas9, from fitness costs due',\n",
       " '      to potential off-target cleavage. Using a maximum likelihood framework, we find',\n",
       " '      that a model with no direct fitness costs but moderate costs due to off-target',\n",
       " '      effects fits our cage data best. Consistent with this, we do not observe fitness ',\n",
       " '      costs for a construct with Cas9HF1, a high-fidelity version of Cas9. We further',\n",
       " '      demonstrate that using Cas9HF1 instead of standard Cas9 in a homing drive',\n",
       " '      achieves similar drive conversion efficiency. These results suggest that gene',\n",
       " '      drives should be designed with high-fidelity endonucleases and may have',\n",
       " '      implications for other applications that involve genomic integration of CRISPR',\n",
       " '      endonucleases.',\n",
       " 'CI  - (c) 2022, Langmuller et al.',\n",
       " 'FAU - Langmuller, Anna M',\n",
       " 'AU  - Langmuller AM',\n",
       " 'AUID- ORCID: http://orcid.org/0000-0002-6102-8862',\n",
       " 'AD  - Department of Computational Biology, Cornell University, Ithaca, United States.',\n",
       " 'FAU - Champer, Jackson',\n",
       " 'AU  - Champer J',\n",
       " 'AUID- ORCID: http://orcid.org/0000-0002-3814-3774',\n",
       " 'AD  - Center for Bioinformatics, Peking University, Beijing, China.',\n",
       " 'FAU - Lapinska, Sandra',\n",
       " 'AU  - Lapinska S',\n",
       " 'AD  - Department of Computational Biology, Cornell University, Ithaca, United States.',\n",
       " 'FAU - Xie, Lin',\n",
       " 'AU  - Xie L',\n",
       " 'AD  - Department of Computational Biology, Cornell University, Ithaca, United States.',\n",
       " 'FAU - Metzloff, Matthew',\n",
       " 'AU  - Metzloff M',\n",
       " 'AUID- ORCID: http://orcid.org/0000-0002-6108-5031',\n",
       " 'AD  - Department of Computational Biology, Cornell University, Ithaca, United States.',\n",
       " 'FAU - Champer, Samuel E',\n",
       " 'AU  - Champer SE',\n",
       " 'AUID- ORCID: http://orcid.org/0000-0002-4559-7627',\n",
       " 'AD  - Department of Computational Biology, Cornell University, Ithaca, United States.',\n",
       " 'FAU - Liu, Jingxian',\n",
       " 'AU  - Liu J',\n",
       " 'AUID- ORCID: http://orcid.org/0000-0002-2172-3297',\n",
       " 'AD  - Department of Biological Statistics, Cornell University, Ithaca, United States.',\n",
       " 'FAU - Xu, Yineng',\n",
       " 'AU  - Xu Y',\n",
       " 'AUID- ORCID: http://orcid.org/0000-0002-4473-4052',\n",
       " 'AD  - Department of Molecular Biology and Genetics, Cornell University, Ithaca, United ',\n",
       " '      States.',\n",
       " 'FAU - Du, Jie',\n",
       " 'AU  - Du J',\n",
       " 'AD  - Center for Bioinformatics, Peking University, Beijing, China.',\n",
       " 'FAU - Clark, Andrew G',\n",
       " 'AU  - Clark AG',\n",
       " 'AD  - Department of Computational Biology, Cornell University, Ithaca, United States.',\n",
       " 'FAU - Messer, Philipp W',\n",
       " 'AU  - Messer PW',\n",
       " 'AUID- ORCID: http://orcid.org/0000-0001-8453-9377',\n",
       " 'AD  - Department of Computational Biology, Cornell University, Ithaca, United States.',\n",
       " 'LA  - eng',\n",
       " 'GR  - R21AI130635/NH/NIH HHS/United States',\n",
       " 'GR  - F32AI138476/NH/NIH HHS/United States',\n",
       " 'GR  - R01GM127418/NH/NIH HHS/United States',\n",
       " 'PT  - Journal Article',\n",
       " 'DEP - 20220922',\n",
       " 'PL  - England',\n",
       " 'TA  - Elife',\n",
       " 'JT  - eLife',\n",
       " 'JID - 101579614',\n",
       " 'SB  - IM',\n",
       " 'OTO - NOTNLM',\n",
       " 'OT  - D. melanogaster',\n",
       " 'OT  - evolutionary biology',\n",
       " 'OT  - genetics',\n",
       " 'OT  - genomics',\n",
       " 'COIS- AL, JC, SL, LX, MM, SC, JL, YX, JD, AC The other authors declare that no',\n",
       " '      competing interests exist. PM Philipp W Messer, Reviewing editor, eLife.',\n",
       " 'EDAT- 2022/09/23 06:00',\n",
       " 'MHDA- 2022/09/23 06:00',\n",
       " 'CRDT- 2022/09/22 09:52',\n",
       " 'PHST- 2021/06/30 00:00 [received]',\n",
       " 'PHST- 2022/09/08 00:00 [accepted]',\n",
       " 'PHST- 2022/09/22 09:52 [entrez]',\n",
       " 'PHST- 2022/09/23 06:00 [pubmed]',\n",
       " 'PHST- 2022/09/23 06:00 [medline]',\n",
       " 'AID - 10.7554/eLife.71809 [doi]',\n",
       " 'AID - 71809 [pii]',\n",
       " 'PST - aheadofprint',\n",
       " 'SO  - Elife. 2022 Sep 22;11. pii: 71809. doi: 10.7554/eLife.71809.',\n",
       " '']"
      ]
     },
     "execution_count": 15,
     "metadata": {},
     "output_type": "execute_result"
    }
   ],
   "source": [
    "# we see that each TAG - CONTENT is on a new line\n",
    "# so we split the text in a list \n",
    "# \"TAG_1 - CONTENT_1 \\n TAG_2 - CONTENT_2\"   ------>  [TAG_1 - CONTENT_1 , TAG_2 - CONTENT_2]\n",
    "\n",
    "paper_data = paper_data.split('\\n')\n",
    "paper_data"
   ]
  },
  {
   "cell_type": "code",
   "execution_count": 16,
   "id": "697c2162",
   "metadata": {},
   "outputs": [
    {
     "data": {
      "text/plain": [
       "['PMID- 36135925',\n",
       " 'OWN - NLM',\n",
       " 'STAT- Publisher',\n",
       " 'LR  - 20220922',\n",
       " 'IS  - 2050-084X (Electronic)',\n",
       " 'IS  - 2050-084X (Linking)',\n",
       " 'VI  - 11',\n",
       " 'DP  - 2022 Sep 22',\n",
       " 'TI  - Fitness effects of CRISPR endonucleases in Drosophila melanogaster populations.',\n",
       " 'LID - 10.7554/eLife.71809 [doi]',\n",
       " 'LID - e71809 [pii]',\n",
       " \"AB  - CRISPR/Cas9 provides a highly efficient and flexible genome editing technologywith numerous potential applications ranging from gene therapy to populationcontrol. Some proposed applications involve the integration of CRISPR/Cas9endonucleases into an organism's genome, which raises questions about potentiallyharmful effects to the transgenic individuals. One example for which this isparticularly relevant are CRISPR-based gene drives conceived for the geneticalteration of entire populations. The performance of such drives can stronglydepend on fitness costs experienced by drive carriers, yet relatively little isknown about the magnitude and causes of these costs. Here, we assess the fitnesseffects of genomic CRISPR/Cas9 expression in Drosophila melanogaster cagepopulations by tracking allele frequencies of four different transgenicconstructs that allow us to disentangle 'direct' fitness costs due to theintegration, expression, and target-site activity of Cas9, from fitness costs dueto potential off-target cleavage. Using a maximum likelihood framework, we findthat a model with no direct fitness costs but moderate costs due to off-targeteffects fits our cage data best. Consistent with this, we do not observe fitnesscosts for a construct with Cas9HF1, a high-fidelity version of Cas9. We furtherdemonstrate that using Cas9HF1 instead of standard Cas9 in a homing driveachieves similar drive conversion efficiency. These results suggest that genedrives should be designed with high-fidelity endonucleases and may haveimplications for other applications that involve genomic integration of CRISPRendonucleases.\",\n",
       " 'CI  - (c) 2022, Langmuller et al.',\n",
       " 'FAU - Langmuller, Anna M',\n",
       " 'AU  - Langmuller AM',\n",
       " 'AUID- ORCID: http://orcid.org/0000-0002-6102-8862',\n",
       " 'AD  - Department of Computational Biology, Cornell University, Ithaca, United States.',\n",
       " 'FAU - Champer, Jackson',\n",
       " 'AU  - Champer J',\n",
       " 'AUID- ORCID: http://orcid.org/0000-0002-3814-3774',\n",
       " 'AD  - Center for Bioinformatics, Peking University, Beijing, China.',\n",
       " 'FAU - Lapinska, Sandra',\n",
       " 'AU  - Lapinska S',\n",
       " 'AD  - Department of Computational Biology, Cornell University, Ithaca, United States.',\n",
       " 'FAU - Xie, Lin',\n",
       " 'AU  - Xie L',\n",
       " 'AD  - Department of Computational Biology, Cornell University, Ithaca, United States.',\n",
       " 'FAU - Metzloff, Matthew',\n",
       " 'AU  - Metzloff M',\n",
       " 'AUID- ORCID: http://orcid.org/0000-0002-6108-5031',\n",
       " 'AD  - Department of Computational Biology, Cornell University, Ithaca, United States.',\n",
       " 'FAU - Champer, Samuel E',\n",
       " 'AU  - Champer SE',\n",
       " 'AUID- ORCID: http://orcid.org/0000-0002-4559-7627',\n",
       " 'AD  - Department of Computational Biology, Cornell University, Ithaca, United States.',\n",
       " 'FAU - Liu, Jingxian',\n",
       " 'AU  - Liu J',\n",
       " 'AUID- ORCID: http://orcid.org/0000-0002-2172-3297',\n",
       " 'AD  - Department of Biological Statistics, Cornell University, Ithaca, United States.',\n",
       " 'FAU - Xu, Yineng',\n",
       " 'AU  - Xu Y',\n",
       " 'AUID- ORCID: http://orcid.org/0000-0002-4473-4052',\n",
       " 'AD  - Department of Molecular Biology and Genetics, Cornell University, Ithaca, UnitedStates.',\n",
       " 'FAU - Du, Jie',\n",
       " 'AU  - Du J',\n",
       " 'AD  - Center for Bioinformatics, Peking University, Beijing, China.',\n",
       " 'FAU - Clark, Andrew G',\n",
       " 'AU  - Clark AG',\n",
       " 'AD  - Department of Computational Biology, Cornell University, Ithaca, United States.',\n",
       " 'FAU - Messer, Philipp W',\n",
       " 'AU  - Messer PW',\n",
       " 'AUID- ORCID: http://orcid.org/0000-0001-8453-9377',\n",
       " 'AD  - Department of Computational Biology, Cornell University, Ithaca, United States.',\n",
       " 'LA  - eng',\n",
       " 'GR  - R21AI130635/NH/NIH HHS/United States',\n",
       " 'GR  - F32AI138476/NH/NIH HHS/United States',\n",
       " 'GR  - R01GM127418/NH/NIH HHS/United States',\n",
       " 'PT  - Journal Article',\n",
       " 'DEP - 20220922',\n",
       " 'PL  - England',\n",
       " 'TA  - Elife',\n",
       " 'JT  - eLife',\n",
       " 'JID - 101579614',\n",
       " 'SB  - IM',\n",
       " 'OTO - NOTNLM',\n",
       " 'OT  - D. melanogaster',\n",
       " 'OT  - evolutionary biology',\n",
       " 'OT  - genetics',\n",
       " 'OT  - genomics',\n",
       " 'COIS- AL, JC, SL, LX, MM, SC, JL, YX, JD, AC The other authors declare that nocompeting interests exist. PM Philipp W Messer, Reviewing editor, eLife.',\n",
       " 'EDAT- 2022/09/23 06:00',\n",
       " 'MHDA- 2022/09/23 06:00',\n",
       " 'CRDT- 2022/09/22 09:52',\n",
       " 'PHST- 2021/06/30 00:00 [received]',\n",
       " 'PHST- 2022/09/08 00:00 [accepted]',\n",
       " 'PHST- 2022/09/22 09:52 [entrez]',\n",
       " 'PHST- 2022/09/23 06:00 [pubmed]',\n",
       " 'PHST- 2022/09/23 06:00 [medline]',\n",
       " 'AID - 10.7554/eLife.71809 [doi]',\n",
       " 'AID - 71809 [pii]',\n",
       " 'PST - aheadofprint',\n",
       " 'SO  - Elife. 2022 Sep 22;11. pii: 71809. doi: 10.7554/eLife.71809.']"
      ]
     },
     "execution_count": 16,
     "metadata": {},
     "output_type": "execute_result"
    }
   ],
   "source": [
    "# we can see that some contents are quite long (like the abstract)\n",
    "# and they do not follow the 'rule'  TAG - CONTENT\n",
    "# how can we solve it?\n",
    "# check first 4 characters\n",
    "# if those are not empty ----> there is a TAG\n",
    "# if those are empry ----> need to connect it to the previus TAG\n",
    "\n",
    "ls = []\n",
    "for elem in paper_data:\n",
    "    if elem == '':\n",
    "        continue\n",
    "    \n",
    "    elif elem[0:4] != '    ': # check if are not empty\n",
    "        elem = elem.strip()\n",
    "        elem = elem.replace('\\n', '')\n",
    "        ls.append(elem)\n",
    "    \n",
    "    else:                    # are empty\n",
    "        elem = elem.strip()\n",
    "        elem = elem.replace('\\n', '')\n",
    "        ls[-1] = ls[-1] + elem # connect to the previus tag\n",
    "ls"
   ]
  },
  {
   "cell_type": "code",
   "execution_count": 17,
   "id": "3d6a8d31",
   "metadata": {},
   "outputs": [
    {
     "data": {
      "text/plain": [
       "[['PMID', '36135925'],\n",
       " ['OWN', 'NLM'],\n",
       " ['STAT', 'Publisher'],\n",
       " ['LR', '20220922'],\n",
       " ['IS', '2050-084X (Electronic)'],\n",
       " ['IS', '2050-084X (Linking)'],\n",
       " ['VI', '11'],\n",
       " ['DP', '2022 Sep 22'],\n",
       " ['TI',\n",
       "  'Fitness effects of CRISPR endonucleases in Drosophila melanogaster populations.'],\n",
       " ['LID', '10.7554/eLife.71809 [doi]'],\n",
       " ['LID', 'e71809 [pii]'],\n",
       " ['AB',\n",
       "  \"CRISPR/Cas9 provides a highly efficient and flexible genome editing technologywith numerous potential applications ranging from gene therapy to populationcontrol. Some proposed applications involve the integration of CRISPR/Cas9endonucleases into an organism's genome, which raises questions about potentiallyharmful effects to the transgenic individuals. One example for which this isparticularly relevant are CRISPR-based gene drives conceived for the geneticalteration of entire populations. The performance of such drives can stronglydepend on fitness costs experienced by drive carriers, yet relatively little isknown about the magnitude and causes of these costs. Here, we assess the fitnesseffects of genomic CRISPR/Cas9 expression in Drosophila melanogaster cagepopulations by tracking allele frequencies of four different transgenicconstructs that allow us to disentangle 'direct' fitness costs due to theintegration, expression, and target-site activity of Cas9, from fitness costs dueto potential off-target cleavage. Using a maximum likelihood framework, we findthat a model with no direct fitness costs but moderate costs due to off-targeteffects fits our cage data best. Consistent with this, we do not observe fitnesscosts for a construct with Cas9HF1, a high-fidelity version of Cas9. We furtherdemonstrate that using Cas9HF1 instead of standard Cas9 in a homing driveachieves similar drive conversion efficiency. These results suggest that genedrives should be designed with high-fidelity endonucleases and may haveimplications for other applications that involve genomic integration of CRISPRendonucleases.\"],\n",
       " ['CI', '(c) 2022, Langmuller et al.'],\n",
       " ['FAU', 'Langmuller, Anna M'],\n",
       " ['AU', 'Langmuller AM'],\n",
       " ['AUID', 'ORCID: http://orcid.org/0000-0002-6102-8862'],\n",
       " ['AD',\n",
       "  'Department of Computational Biology, Cornell University, Ithaca, United States.'],\n",
       " ['FAU', 'Champer, Jackson'],\n",
       " ['AU', 'Champer J'],\n",
       " ['AUID', 'ORCID: http://orcid.org/0000-0002-3814-3774'],\n",
       " ['AD', 'Center for Bioinformatics, Peking University, Beijing, China.'],\n",
       " ['FAU', 'Lapinska, Sandra'],\n",
       " ['AU', 'Lapinska S'],\n",
       " ['AD',\n",
       "  'Department of Computational Biology, Cornell University, Ithaca, United States.'],\n",
       " ['FAU', 'Xie, Lin'],\n",
       " ['AU', 'Xie L'],\n",
       " ['AD',\n",
       "  'Department of Computational Biology, Cornell University, Ithaca, United States.'],\n",
       " ['FAU', 'Metzloff, Matthew'],\n",
       " ['AU', 'Metzloff M'],\n",
       " ['AUID', 'ORCID: http://orcid.org/0000-0002-6108-5031'],\n",
       " ['AD',\n",
       "  'Department of Computational Biology, Cornell University, Ithaca, United States.'],\n",
       " ['FAU', 'Champer, Samuel E'],\n",
       " ['AU', 'Champer SE'],\n",
       " ['AUID', 'ORCID: http://orcid.org/0000-0002-4559-7627'],\n",
       " ['AD',\n",
       "  'Department of Computational Biology, Cornell University, Ithaca, United States.'],\n",
       " ['FAU', 'Liu, Jingxian'],\n",
       " ['AU', 'Liu J'],\n",
       " ['AUID', 'ORCID: http://orcid.org/0000-0002-2172-3297'],\n",
       " ['AD',\n",
       "  'Department of Biological Statistics, Cornell University, Ithaca, United States.'],\n",
       " ['FAU', 'Xu, Yineng'],\n",
       " ['AU', 'Xu Y'],\n",
       " ['AUID', 'ORCID: http://orcid.org/0000-0002-4473-4052'],\n",
       " ['AD',\n",
       "  'Department of Molecular Biology and Genetics, Cornell University, Ithaca, UnitedStates.'],\n",
       " ['FAU', 'Du, Jie'],\n",
       " ['AU', 'Du J'],\n",
       " ['AD', 'Center for Bioinformatics, Peking University, Beijing, China.'],\n",
       " ['FAU', 'Clark, Andrew G'],\n",
       " ['AU', 'Clark AG'],\n",
       " ['AD',\n",
       "  'Department of Computational Biology, Cornell University, Ithaca, United States.'],\n",
       " ['FAU', 'Messer, Philipp W'],\n",
       " ['AU', 'Messer PW'],\n",
       " ['AUID', 'ORCID: http://orcid.org/0000-0001-8453-9377'],\n",
       " ['AD',\n",
       "  'Department of Computational Biology, Cornell University, Ithaca, United States.'],\n",
       " ['LA', 'eng'],\n",
       " ['GR', 'R21AI130635/NH/NIH HHS/United States'],\n",
       " ['GR', 'F32AI138476/NH/NIH HHS/United States'],\n",
       " ['GR', 'R01GM127418/NH/NIH HHS/United States'],\n",
       " ['PT', 'Journal Article'],\n",
       " ['DEP', '20220922'],\n",
       " ['PL', 'England'],\n",
       " ['TA', 'Elife'],\n",
       " ['JT', 'eLife'],\n",
       " ['JID', '101579614'],\n",
       " ['SB', 'IM'],\n",
       " ['OTO', 'NOTNLM'],\n",
       " ['OT', 'D. melanogaster'],\n",
       " ['OT', 'evolutionary biology'],\n",
       " ['OT', 'genetics'],\n",
       " ['OT', 'genomics'],\n",
       " ['COIS',\n",
       "  'AL, JC, SL, LX, MM, SC, JL, YX, JD, AC The other authors declare that nocompeting interests exist. PM Philipp W Messer, Reviewing editor, eLife.'],\n",
       " ['EDAT', '2022/09/23 06:00'],\n",
       " ['MHDA', '2022/09/23 06:00'],\n",
       " ['CRDT', '2022/09/22 09:52'],\n",
       " ['PHST', '2021/06/30 00:00 [received]'],\n",
       " ['PHST', '2022/09/08 00:00 [accepted]'],\n",
       " ['PHST', '2022/09/22 09:52 [entrez]'],\n",
       " ['PHST', '2022/09/23 06:00 [pubmed]'],\n",
       " ['PHST', '2022/09/23 06:00 [medline]'],\n",
       " ['AID', '10.7554/eLife.71809 [doi]'],\n",
       " ['AID', '71809 [pii]'],\n",
       " ['PST', 'aheadofprint'],\n",
       " ['SO', 'Elife. 2022 Sep 22;11. pii: 71809. doi: 10.7554/eLife.71809.']]"
      ]
     },
     "execution_count": 17,
     "metadata": {},
     "output_type": "execute_result"
    }
   ],
   "source": [
    "# now we want to achieve this:\n",
    "# [TAG - CONTENT] ----> [TAG , CONTENT]\n",
    "# so we an access the tag and the content indipendently\n",
    "\n",
    "ls_2 = [] \n",
    "for elem in ls:\n",
    "    key = elem[0:4].strip()\n",
    "    value = elem[5:].strip()\n",
    "        \n",
    "    ls_2.append([key, value])\n",
    "ls_2"
   ]
  },
  {
   "cell_type": "code",
   "execution_count": 20,
   "id": "f614da8c",
   "metadata": {},
   "outputs": [
    {
     "name": "stdout",
     "output_type": "stream",
     "text": [
      "Pubblication date: 2022 Sep 22\n",
      "\n",
      "Title: Fitness effects of CRISPR endonucleases in Drosophila melanogaster populations.\n",
      "\n",
      "Journal Title: eLife\n",
      "\n"
     ]
    }
   ],
   "source": [
    "# so the data structure we have now is something like this\n",
    "#    0    |     1\n",
    "# ---------------------\n",
    "#  tag1   |   content1\n",
    "#  tag2   |   content2\n",
    "#  tag3   |   content3\n",
    "#  tag4   |   content4\n",
    "\n",
    "\n",
    "# we find the content by iterating for each row\n",
    "# and we check if the tag for the row is the one we are looking for\n",
    "# if it is we look at the content in the same row\n",
    "\n",
    "for row in ls_2:\n",
    "    if row[0] == 'TI':\n",
    "        print('Title: ' + row[1] + '\\n')\n",
    "        \n",
    "    elif row[0] == 'DP':\n",
    "        print('Pubblication date: ' + row[1] + '\\n')\n",
    "        \n",
    "    elif row[0] == 'JT':\n",
    "        print('Journal Title: ' + row[1] + '\\n')"
   ]
  },
  {
   "cell_type": "markdown",
   "id": "3986e25d",
   "metadata": {},
   "source": [
    "# Database\n",
    "We now need to repeate the procedure for all the UIDs we collected and save the info in a database"
   ]
  },
  {
   "cell_type": "code",
   "execution_count": 24,
   "id": "c4cba06e",
   "metadata": {},
   "outputs": [],
   "source": [
    "# to make everything easier we create some functions"
   ]
  },
  {
   "cell_type": "code",
   "execution_count": 50,
   "id": "2d943d0a",
   "metadata": {},
   "outputs": [],
   "source": [
    "def get_data(UID, session):\n",
    "    url = 'https://eutils.ncbi.nlm.nih.gov/entrez/eutils/efetch.fcgi?db=pubmed&rettype=medline&id='\n",
    "    url = url + UID\n",
    "    data = session.get(url).content\n",
    "    return data.decode()"
   ]
  },
  {
   "cell_type": "code",
   "execution_count": 51,
   "id": "409f7128",
   "metadata": {},
   "outputs": [],
   "source": [
    "def process_data(data):\n",
    "    ls = []\n",
    "    data = data.split('\\n')\n",
    "    for elem in data:\n",
    "        if elem == '':\n",
    "            continue\n",
    "        elif elem[0:4] != '    ': \n",
    "            elem = elem.strip()\n",
    "            elem = elem.replace('\\n', '')\n",
    "            ls.append(elem)\n",
    "        else:                    \n",
    "            elem = elem.strip()\n",
    "            elem = elem.replace('\\n', '')\n",
    "            ls[-1] = ls[-1] + elem\n",
    "    \n",
    "    \n",
    "    ls_2 = [] \n",
    "    for elem in ls:\n",
    "        key = elem[0:4].strip()\n",
    "        value = elem[5:].strip()\n",
    "        \n",
    "        ls_2.append([key, value])\n",
    "    \n",
    "    return ls_2\n"
   ]
  },
  {
   "cell_type": "code",
   "execution_count": 62,
   "id": "5abd2b26",
   "metadata": {},
   "outputs": [],
   "source": [
    "def get_title(processed_data):\n",
    "    for row in processed_data:\n",
    "        if row[0] == 'TI':\n",
    "            return row[1]\n",
    "\n",
    "def get_pubblication_date(processed_data):\n",
    "    for row in processed_data:\n",
    "        if row[0] == 'DP':\n",
    "            return row[1]\n",
    "        \n",
    "def get_journal_title(processed_data):\n",
    "    for row in processed_data:\n",
    "        if row[0] == 'JT':\n",
    "            return row[1]"
   ]
  },
  {
   "cell_type": "code",
   "execution_count": 53,
   "id": "1969594f",
   "metadata": {},
   "outputs": [
    {
     "data": {
      "text/plain": [
       "['36171009',\n",
       " '36170987',\n",
       " '36170945',\n",
       " '36170897',\n",
       " '36170852',\n",
       " '36170434',\n",
       " '36170385',\n",
       " '36170283',\n",
       " '36170272',\n",
       " '36170116',\n",
       " '36169999',\n",
       " '36169916',\n",
       " '36169732',\n",
       " '36169667',\n",
       " '36169657',\n",
       " '36169223',\n",
       " '36169126',\n",
       " '36168938',\n",
       " '36168896',\n",
       " '36168719']"
      ]
     },
     "execution_count": 53,
     "metadata": {},
     "output_type": "execute_result"
    }
   ],
   "source": [
    "UIDs"
   ]
  },
  {
   "cell_type": "code",
   "execution_count": 63,
   "id": "23d55dd8",
   "metadata": {},
   "outputs": [
    {
     "name": "stdout",
     "output_type": "stream",
     "text": [
      "Paper 1: OK\n",
      "Paper 2: OK\n",
      "Paper 3: OK\n",
      "Paper 4: OK\n",
      "Paper 5: OK\n",
      "Paper 6: OK\n",
      "Paper 7: OK\n",
      "Paper 8: OK\n",
      "Paper 9: OK\n",
      "Paper 10: OK\n",
      "Paper 11: OK\n",
      "Paper 12: OK\n",
      "Paper 13: OK\n",
      "Paper 14: OK\n",
      "Paper 15: OK\n",
      "Paper 16: OK\n",
      "Paper 17: OK\n",
      "Paper 18: OK\n",
      "Paper 19: OK\n",
      "Paper 20: OK\n"
     ]
    }
   ],
   "source": [
    "import time\n",
    "\n",
    "titles = []\n",
    "dates = []\n",
    "journals = []\n",
    "\n",
    "session = requests.Session()\n",
    "i = 1\n",
    "for UID in UIDs:\n",
    "    time.sleep(0.4) # API limits us to 3 calls per second\n",
    "    data = get_data(UID, session)\n",
    "    processed_data = process_data(data)\n",
    "    \n",
    "    titles.append(get_title(processed_data))\n",
    "    dates.append(get_pubblication_date(processed_data))\n",
    "    journals.append(get_journal_title(processed_data))\n",
    "    print('Paper ' + str(i) + ': OK')\n",
    "    i +=1\n",
    "    "
   ]
  },
  {
   "cell_type": "code",
   "execution_count": 64,
   "id": "3f24d9ec",
   "metadata": {},
   "outputs": [],
   "source": [
    "# there are different way to create a database with pandas\n",
    "# my favourite is by using dictionaries\n",
    "# this is the basic structure\n",
    "# dict = {\n",
    "#   column_name : list_of_values,\n",
    "#   column_name_2 : list_of_values_2\n",
    "#}"
   ]
  },
  {
   "cell_type": "code",
   "execution_count": 65,
   "id": "8464b69e",
   "metadata": {},
   "outputs": [],
   "source": [
    "dict = {\n",
    "    'UID' : UIDs,\n",
    "    'title' : titles,\n",
    "    'Pubblication Date' : dates,\n",
    "    'Journal Title' : journals\n",
    "}"
   ]
  },
  {
   "cell_type": "code",
   "execution_count": 66,
   "id": "b35457a3",
   "metadata": {},
   "outputs": [],
   "source": [
    "import pandas as pd\n",
    "\n",
    "df = pd.DataFrame(dict)"
   ]
  },
  {
   "cell_type": "code",
   "execution_count": 67,
   "id": "141f480f",
   "metadata": {},
   "outputs": [
    {
     "data": {
      "text/html": [
       "<div>\n",
       "<style scoped>\n",
       "    .dataframe tbody tr th:only-of-type {\n",
       "        vertical-align: middle;\n",
       "    }\n",
       "\n",
       "    .dataframe tbody tr th {\n",
       "        vertical-align: top;\n",
       "    }\n",
       "\n",
       "    .dataframe thead th {\n",
       "        text-align: right;\n",
       "    }\n",
       "</style>\n",
       "<table border=\"1\" class=\"dataframe\">\n",
       "  <thead>\n",
       "    <tr style=\"text-align: right;\">\n",
       "      <th></th>\n",
       "      <th>UID</th>\n",
       "      <th>title</th>\n",
       "      <th>Pubblication Date</th>\n",
       "      <th>Journal Title</th>\n",
       "    </tr>\n",
       "  </thead>\n",
       "  <tbody>\n",
       "    <tr>\n",
       "      <th>0</th>\n",
       "      <td>36171009</td>\n",
       "      <td>Tumor microenvironment gene expression profile...</td>\n",
       "      <td>2022 Sep</td>\n",
       "      <td>Journal for immunotherapy of cancer</td>\n",
       "    </tr>\n",
       "    <tr>\n",
       "      <th>1</th>\n",
       "      <td>36170987</td>\n",
       "      <td>Targeting the PANoptosome with 3,4-Methylenedi...</td>\n",
       "      <td>2022 Sep 28</td>\n",
       "      <td>Journal of investigative surgery : the officia...</td>\n",
       "    </tr>\n",
       "    <tr>\n",
       "      <th>2</th>\n",
       "      <td>36170945</td>\n",
       "      <td>Effects of H1-Antihistamines on Hepatocellular...</td>\n",
       "      <td>2022 Sep 25</td>\n",
       "      <td>Diabetes &amp; metabolism</td>\n",
       "    </tr>\n",
       "    <tr>\n",
       "      <th>3</th>\n",
       "      <td>36170897</td>\n",
       "      <td>A booster shot of vaccine against SARS-CoV-2 s...</td>\n",
       "      <td>2022 Sep 25</td>\n",
       "      <td>The Journal of infection</td>\n",
       "    </tr>\n",
       "    <tr>\n",
       "      <th>4</th>\n",
       "      <td>36170852</td>\n",
       "      <td>Artificial Intelligence in Oncological Hybrid ...</td>\n",
       "      <td>2022 Sep 28</td>\n",
       "      <td>RoFo : Fortschritte auf dem Gebiete der Rontge...</td>\n",
       "    </tr>\n",
       "    <tr>\n",
       "      <th>5</th>\n",
       "      <td>36170434</td>\n",
       "      <td>Artificial Intelligence Confirming Treatment S...</td>\n",
       "      <td>2022 Oct 1</td>\n",
       "      <td>Plastic and reconstructive surgery</td>\n",
       "    </tr>\n",
       "    <tr>\n",
       "      <th>6</th>\n",
       "      <td>36170385</td>\n",
       "      <td>Natural Language Processing for Smart Healthcare.</td>\n",
       "      <td>2022 Sep 28</td>\n",
       "      <td>IEEE reviews in biomedical engineering</td>\n",
       "    </tr>\n",
       "    <tr>\n",
       "      <th>7</th>\n",
       "      <td>36170283</td>\n",
       "      <td>COVID-19 and public support for autonomous tec...</td>\n",
       "      <td>2022</td>\n",
       "      <td>PloS one</td>\n",
       "    </tr>\n",
       "    <tr>\n",
       "      <th>8</th>\n",
       "      <td>36170272</td>\n",
       "      <td>A causal inference approach for estimating eff...</td>\n",
       "      <td>2022</td>\n",
       "      <td>PloS one</td>\n",
       "    </tr>\n",
       "    <tr>\n",
       "      <th>9</th>\n",
       "      <td>36170116</td>\n",
       "      <td>Social Determinants of Health and Body Mass In...</td>\n",
       "      <td>2022 Sep 28</td>\n",
       "      <td>Childhood obesity (Print)</td>\n",
       "    </tr>\n",
       "    <tr>\n",
       "      <th>10</th>\n",
       "      <td>36169999</td>\n",
       "      <td>Comparison Between QT and Corrected QT Interva...</td>\n",
       "      <td>2022 Sep 28</td>\n",
       "      <td>JMIR formative research</td>\n",
       "    </tr>\n",
       "    <tr>\n",
       "      <th>11</th>\n",
       "      <td>36169916</td>\n",
       "      <td>What's New in Therapy for Male Androgenetic Al...</td>\n",
       "      <td>2022 Sep 28</td>\n",
       "      <td>American journal of clinical dermatology</td>\n",
       "    </tr>\n",
       "    <tr>\n",
       "      <th>12</th>\n",
       "      <td>36169732</td>\n",
       "      <td>Single cell analysis of PANoptosome cell death...</td>\n",
       "      <td>2022 Sep 28</td>\n",
       "      <td>Cellular and molecular life sciences : CMLS</td>\n",
       "    </tr>\n",
       "    <tr>\n",
       "      <th>13</th>\n",
       "      <td>36169667</td>\n",
       "      <td>Assessment of an artificial intelligence aid f...</td>\n",
       "      <td>2022 Sep 28</td>\n",
       "      <td>Pediatric radiology</td>\n",
       "    </tr>\n",
       "    <tr>\n",
       "      <th>14</th>\n",
       "      <td>36169657</td>\n",
       "      <td>Combined synchronization and superovulation tr...</td>\n",
       "      <td>2022 Sep 28</td>\n",
       "      <td>Journal of animal science</td>\n",
       "    </tr>\n",
       "    <tr>\n",
       "      <th>15</th>\n",
       "      <td>36169223</td>\n",
       "      <td>GotEnzymes: an extensive database of enzyme pa...</td>\n",
       "      <td>2022 Sep 28</td>\n",
       "      <td>Nucleic acids research</td>\n",
       "    </tr>\n",
       "    <tr>\n",
       "      <th>16</th>\n",
       "      <td>36169126</td>\n",
       "      <td>[Artificial intelligence in cardiology].</td>\n",
       "      <td>2022 Oct</td>\n",
       "      <td>Giornale italiano di cardiologia (2006)</td>\n",
       "    </tr>\n",
       "    <tr>\n",
       "      <th>17</th>\n",
       "      <td>36168938</td>\n",
       "      <td>Predicting multiple types of miRNA-disease ass...</td>\n",
       "      <td>2022 Sep 27</td>\n",
       "      <td>Briefings in bioinformatics</td>\n",
       "    </tr>\n",
       "    <tr>\n",
       "      <th>18</th>\n",
       "      <td>36168896</td>\n",
       "      <td>Artificial intelligence-driven prediction of m...</td>\n",
       "      <td>2022 Sep 27</td>\n",
       "      <td>Briefings in bioinformatics</td>\n",
       "    </tr>\n",
       "    <tr>\n",
       "      <th>19</th>\n",
       "      <td>36168719</td>\n",
       "      <td>Microbe-bridged disease-metabolite association...</td>\n",
       "      <td>2022 Sep 27</td>\n",
       "      <td>Briefings in bioinformatics</td>\n",
       "    </tr>\n",
       "  </tbody>\n",
       "</table>\n",
       "</div>"
      ],
      "text/plain": [
       "         UID                                              title  \\\n",
       "0   36171009  Tumor microenvironment gene expression profile...   \n",
       "1   36170987  Targeting the PANoptosome with 3,4-Methylenedi...   \n",
       "2   36170945  Effects of H1-Antihistamines on Hepatocellular...   \n",
       "3   36170897  A booster shot of vaccine against SARS-CoV-2 s...   \n",
       "4   36170852  Artificial Intelligence in Oncological Hybrid ...   \n",
       "5   36170434  Artificial Intelligence Confirming Treatment S...   \n",
       "6   36170385  Natural Language Processing for Smart Healthcare.   \n",
       "7   36170283  COVID-19 and public support for autonomous tec...   \n",
       "8   36170272  A causal inference approach for estimating eff...   \n",
       "9   36170116  Social Determinants of Health and Body Mass In...   \n",
       "10  36169999  Comparison Between QT and Corrected QT Interva...   \n",
       "11  36169916  What's New in Therapy for Male Androgenetic Al...   \n",
       "12  36169732  Single cell analysis of PANoptosome cell death...   \n",
       "13  36169667  Assessment of an artificial intelligence aid f...   \n",
       "14  36169657  Combined synchronization and superovulation tr...   \n",
       "15  36169223  GotEnzymes: an extensive database of enzyme pa...   \n",
       "16  36169126           [Artificial intelligence in cardiology].   \n",
       "17  36168938  Predicting multiple types of miRNA-disease ass...   \n",
       "18  36168896  Artificial intelligence-driven prediction of m...   \n",
       "19  36168719  Microbe-bridged disease-metabolite association...   \n",
       "\n",
       "   Pubblication Date                                      Journal Title  \n",
       "0           2022 Sep                Journal for immunotherapy of cancer  \n",
       "1        2022 Sep 28  Journal of investigative surgery : the officia...  \n",
       "2        2022 Sep 25                              Diabetes & metabolism  \n",
       "3        2022 Sep 25                           The Journal of infection  \n",
       "4        2022 Sep 28  RoFo : Fortschritte auf dem Gebiete der Rontge...  \n",
       "5         2022 Oct 1                 Plastic and reconstructive surgery  \n",
       "6        2022 Sep 28             IEEE reviews in biomedical engineering  \n",
       "7               2022                                           PloS one  \n",
       "8               2022                                           PloS one  \n",
       "9        2022 Sep 28                          Childhood obesity (Print)  \n",
       "10       2022 Sep 28                            JMIR formative research  \n",
       "11       2022 Sep 28           American journal of clinical dermatology  \n",
       "12       2022 Sep 28        Cellular and molecular life sciences : CMLS  \n",
       "13       2022 Sep 28                                Pediatric radiology  \n",
       "14       2022 Sep 28                          Journal of animal science  \n",
       "15       2022 Sep 28                             Nucleic acids research  \n",
       "16          2022 Oct            Giornale italiano di cardiologia (2006)  \n",
       "17       2022 Sep 27                        Briefings in bioinformatics  \n",
       "18       2022 Sep 27                        Briefings in bioinformatics  \n",
       "19       2022 Sep 27                        Briefings in bioinformatics  "
      ]
     },
     "execution_count": 67,
     "metadata": {},
     "output_type": "execute_result"
    }
   ],
   "source": [
    "df"
   ]
  },
  {
   "cell_type": "code",
   "execution_count": null,
   "id": "3347cb61",
   "metadata": {},
   "outputs": [],
   "source": []
  }
 ],
 "metadata": {
  "kernelspec": {
   "display_name": "Python 3 (ipykernel)",
   "language": "python",
   "name": "python3"
  },
  "language_info": {
   "codemirror_mode": {
    "name": "ipython",
    "version": 3
   },
   "file_extension": ".py",
   "mimetype": "text/x-python",
   "name": "python",
   "nbconvert_exporter": "python",
   "pygments_lexer": "ipython3",
   "version": "3.10.7"
  }
 },
 "nbformat": 4,
 "nbformat_minor": 5
}
