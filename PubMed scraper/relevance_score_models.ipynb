{
 "cells": [
  {
   "cell_type": "markdown",
   "id": "e5a979cc",
   "metadata": {},
   "source": [
    "# Relevance Score"
   ]
  },
  {
   "cell_type": "markdown",
   "id": "d871cb9b",
   "metadata": {},
   "source": [
    "**Simple models:**\n",
    "- search vs title\n",
    "- search vs keywords\n",
    "- search vs abstract\n",
    "\n",
    "**Dictionary based models:**\n",
    "- automatic dictionary"
   ]
  },
  {
   "cell_type": "code",
   "execution_count": 1,
   "id": "e96c1032",
   "metadata": {},
   "outputs": [],
   "source": [
    "import pandas as pd\n",
    "import matplotlib.pyplot as plt"
   ]
  },
  {
   "cell_type": "code",
   "execution_count": 2,
   "id": "b36e461d",
   "metadata": {},
   "outputs": [],
   "source": [
    "df = pd.read_csv('database.csv')\n",
    "df = df.fillna('NaN')\n",
    "titles = df['Title'].tolist()\n",
    "abstracts = df['Abstract'].tolist()\n",
    "keywords = df['Keywords'].tolist()"
   ]
  },
  {
   "cell_type": "code",
   "execution_count": 3,
   "id": "78b6f8e1",
   "metadata": {},
   "outputs": [],
   "source": [
    "search_string = 'CNN lung cancer'"
   ]
  },
  {
   "cell_type": "code",
   "execution_count": 4,
   "id": "62dae143",
   "metadata": {},
   "outputs": [],
   "source": [
    "def process_text(text):\n",
    "    text = text.strip()\n",
    "    text = text.lower()\n",
    "    text = text.replace('.', ' ')\n",
    "    text = text.replace(',', ' ')\n",
    "    text = text.replace(':', ' ')\n",
    "    text = text.replace(';', ' ')\n",
    "    text = text.replace('*', ' ')\n",
    "    text = text.replace('/', ' ')\n",
    "    text = text.replace('-', ' ')\n",
    "    text = text.replace('&', ' ')\n",
    "    text = text.replace('=', ' ')\n",
    "    text = text.replace('(', ' ')\n",
    "    text = text.replace(')', ' ')\n",
    "    text = text.replace('[', ' ')\n",
    "    text = text.replace(']', ' ')\n",
    "    text = text.replace(\"'\", ' ')\n",
    "    text = text.replace(\"<\", ' ')\n",
    "    text = text.replace(\">\", ' ')\n",
    "    return text"
   ]
  },
  {
   "cell_type": "markdown",
   "id": "611a9058",
   "metadata": {},
   "source": [
    "# search vs title"
   ]
  },
  {
   "cell_type": "code",
   "execution_count": 5,
   "id": "684bbbe8",
   "metadata": {},
   "outputs": [],
   "source": [
    "def search_vs_title(search_string, titles):\n",
    "    search_string = search_string.split()\n",
    "    scores = []\n",
    "    for title in titles:\n",
    "        matches = 0\n",
    "        for word in search_string:\n",
    "            if word in title:\n",
    "                matches += 1\n",
    "        scores.append(round(matches/len(search_string),1))\n",
    "    return scores\n",
    "                "
   ]
  },
  {
   "cell_type": "code",
   "execution_count": 6,
   "id": "4a47f201",
   "metadata": {},
   "outputs": [],
   "source": [
    "scores = search_vs_title(search_string, titles)"
   ]
  },
  {
   "cell_type": "code",
   "execution_count": 7,
   "id": "e56a282d",
   "metadata": {},
   "outputs": [
    {
     "data": {
      "text/html": [
       "<div>\n",
       "<style scoped>\n",
       "    .dataframe tbody tr th:only-of-type {\n",
       "        vertical-align: middle;\n",
       "    }\n",
       "\n",
       "    .dataframe tbody tr th {\n",
       "        vertical-align: top;\n",
       "    }\n",
       "\n",
       "    .dataframe thead th {\n",
       "        text-align: right;\n",
       "    }\n",
       "</style>\n",
       "<table border=\"1\" class=\"dataframe\">\n",
       "  <thead>\n",
       "    <tr style=\"text-align: right;\">\n",
       "      <th></th>\n",
       "      <th>0</th>\n",
       "      <th>1</th>\n",
       "    </tr>\n",
       "  </thead>\n",
       "  <tbody>\n",
       "    <tr>\n",
       "      <th>107</th>\n",
       "      <td>LungNet: A hybrid deep-CNN model for lung canc...</td>\n",
       "      <td>1.0</td>\n",
       "    </tr>\n",
       "    <tr>\n",
       "      <th>82</th>\n",
       "      <td>Classification of subtypes including LCNEC in ...</td>\n",
       "      <td>0.7</td>\n",
       "    </tr>\n",
       "    <tr>\n",
       "      <th>97</th>\n",
       "      <td>A generative adversarial network-based CT imag...</td>\n",
       "      <td>0.7</td>\n",
       "    </tr>\n",
       "    <tr>\n",
       "      <th>44</th>\n",
       "      <td>Artificial neural network in the discriminatio...</td>\n",
       "      <td>0.7</td>\n",
       "    </tr>\n",
       "    <tr>\n",
       "      <th>46</th>\n",
       "      <td>An improved CNN-based architecture for automat...</td>\n",
       "      <td>0.7</td>\n",
       "    </tr>\n",
       "    <tr>\n",
       "      <th>...</th>\n",
       "      <td>...</td>\n",
       "      <td>...</td>\n",
       "    </tr>\n",
       "    <tr>\n",
       "      <th>68</th>\n",
       "      <td>Deep Learning-Based Classification of Cancer C...</td>\n",
       "      <td>0.0</td>\n",
       "    </tr>\n",
       "    <tr>\n",
       "      <th>25</th>\n",
       "      <td>A Survey on Human Cancer Categorization Based ...</td>\n",
       "      <td>0.0</td>\n",
       "    </tr>\n",
       "    <tr>\n",
       "      <th>65</th>\n",
       "      <td>Recognition of Peripheral Lung Cancer and Foca...</td>\n",
       "      <td>0.0</td>\n",
       "    </tr>\n",
       "    <tr>\n",
       "      <th>64</th>\n",
       "      <td>Developing a Cancer Digital Twin: Supervised M...</td>\n",
       "      <td>0.0</td>\n",
       "    </tr>\n",
       "    <tr>\n",
       "      <th>79</th>\n",
       "      <td>A Fully Automated Deep Learning Pipeline for M...</td>\n",
       "      <td>0.0</td>\n",
       "    </tr>\n",
       "  </tbody>\n",
       "</table>\n",
       "<p>120 rows × 2 columns</p>\n",
       "</div>"
      ],
      "text/plain": [
       "                                                     0    1\n",
       "107  LungNet: A hybrid deep-CNN model for lung canc...  1.0\n",
       "82   Classification of subtypes including LCNEC in ...  0.7\n",
       "97   A generative adversarial network-based CT imag...  0.7\n",
       "44   Artificial neural network in the discriminatio...  0.7\n",
       "46   An improved CNN-based architecture for automat...  0.7\n",
       "..                                                 ...  ...\n",
       "68   Deep Learning-Based Classification of Cancer C...  0.0\n",
       "25   A Survey on Human Cancer Categorization Based ...  0.0\n",
       "65   Recognition of Peripheral Lung Cancer and Foca...  0.0\n",
       "64   Developing a Cancer Digital Twin: Supervised M...  0.0\n",
       "79   A Fully Automated Deep Learning Pipeline for M...  0.0\n",
       "\n",
       "[120 rows x 2 columns]"
      ]
     },
     "execution_count": 7,
     "metadata": {},
     "output_type": "execute_result"
    }
   ],
   "source": [
    "pd.DataFrame(list(zip(titles, scores))).sort_values(by=[1], ascending = False)"
   ]
  },
  {
   "cell_type": "code",
   "execution_count": 8,
   "id": "de05c599",
   "metadata": {},
   "outputs": [
    {
     "data": {
      "text/plain": [
       "[<matplotlib.lines.Line2D at 0x7f744bee1e70>]"
      ]
     },
     "execution_count": 8,
     "metadata": {},
     "output_type": "execute_result"
    },
    {
     "data": {
      "image/png": "[encoded data removed]",
      "text/plain": [
       "<Figure size 432x288 with 1 Axes>"
      ]
     },
     "metadata": {
      "needs_background": "light"
     },
     "output_type": "display_data"
    }
   ],
   "source": [
    "plt.plot(scores)"
   ]
  },
  {
   "cell_type": "markdown",
   "id": "3c4038d5",
   "metadata": {},
   "source": [
    "# search vs keywords"
   ]
  },
  {
   "cell_type": "code",
   "execution_count": 9,
   "id": "17c04536",
   "metadata": {},
   "outputs": [],
   "source": [
    "def search_vs_keywords(search_string, keywords):\n",
    "    search_string = search_string.split()\n",
    "    scores = []\n",
    "    for keys in keywords:\n",
    "        matches = 0\n",
    "        for word in search_string:\n",
    "            if word in keys:\n",
    "                matches += 1\n",
    "        scores.append(round(matches/len(search_string),1))\n",
    "    return scores"
   ]
  },
  {
   "cell_type": "code",
   "execution_count": 10,
   "id": "55da42b2",
   "metadata": {},
   "outputs": [],
   "source": [
    "scores = search_vs_keywords(search_string, keywords)"
   ]
  },
  {
   "cell_type": "code",
   "execution_count": 11,
   "id": "c7e3dfae",
   "metadata": {},
   "outputs": [
    {
     "data": {
      "text/html": [
       "<div>\n",
       "<style scoped>\n",
       "    .dataframe tbody tr th:only-of-type {\n",
       "        vertical-align: middle;\n",
       "    }\n",
       "\n",
       "    .dataframe tbody tr th {\n",
       "        vertical-align: top;\n",
       "    }\n",
       "\n",
       "    .dataframe thead th {\n",
       "        text-align: right;\n",
       "    }\n",
       "</style>\n",
       "<table border=\"1\" class=\"dataframe\">\n",
       "  <thead>\n",
       "    <tr style=\"text-align: right;\">\n",
       "      <th></th>\n",
       "      <th>0</th>\n",
       "      <th>1</th>\n",
       "    </tr>\n",
       "  </thead>\n",
       "  <tbody>\n",
       "    <tr>\n",
       "      <th>19</th>\n",
       "      <td>Deep-LC: A Novel Deep Learning Method of Ident...</td>\n",
       "      <td>1.0</td>\n",
       "    </tr>\n",
       "    <tr>\n",
       "      <th>114</th>\n",
       "      <td>A deep learning- and CT image-based prognostic...</td>\n",
       "      <td>1.0</td>\n",
       "    </tr>\n",
       "    <tr>\n",
       "      <th>80</th>\n",
       "      <td>A few-shot U-Net deep learning model for lung ...</td>\n",
       "      <td>1.0</td>\n",
       "    </tr>\n",
       "    <tr>\n",
       "      <th>50</th>\n",
       "      <td>Gross Tumor Volume Segmentation for Stage III ...</td>\n",
       "      <td>1.0</td>\n",
       "    </tr>\n",
       "    <tr>\n",
       "      <th>42</th>\n",
       "      <td>Targeted therapies in non-small cell lung canc...</td>\n",
       "      <td>1.0</td>\n",
       "    </tr>\n",
       "    <tr>\n",
       "      <th>...</th>\n",
       "      <td>...</td>\n",
       "      <td>...</td>\n",
       "    </tr>\n",
       "    <tr>\n",
       "      <th>82</th>\n",
       "      <td>Classification of subtypes including LCNEC in ...</td>\n",
       "      <td>0.0</td>\n",
       "    </tr>\n",
       "    <tr>\n",
       "      <th>83</th>\n",
       "      <td>Freely available convolutional neural network-...</td>\n",
       "      <td>0.0</td>\n",
       "    </tr>\n",
       "    <tr>\n",
       "      <th>21</th>\n",
       "      <td>Study on the Relationship between Lung Cancer ...</td>\n",
       "      <td>0.0</td>\n",
       "    </tr>\n",
       "    <tr>\n",
       "      <th>86</th>\n",
       "      <td>BDCNet: multi-classification convolutional neu...</td>\n",
       "      <td>0.0</td>\n",
       "    </tr>\n",
       "    <tr>\n",
       "      <th>0</th>\n",
       "      <td>Convolutional bi-directional learning and spat...</td>\n",
       "      <td>0.0</td>\n",
       "    </tr>\n",
       "  </tbody>\n",
       "</table>\n",
       "<p>120 rows × 2 columns</p>\n",
       "</div>"
      ],
      "text/plain": [
       "                                                     0    1\n",
       "19   Deep-LC: A Novel Deep Learning Method of Ident...  1.0\n",
       "114  A deep learning- and CT image-based prognostic...  1.0\n",
       "80   A few-shot U-Net deep learning model for lung ...  1.0\n",
       "50   Gross Tumor Volume Segmentation for Stage III ...  1.0\n",
       "42   Targeted therapies in non-small cell lung canc...  1.0\n",
       "..                                                 ...  ...\n",
       "82   Classification of subtypes including LCNEC in ...  0.0\n",
       "83   Freely available convolutional neural network-...  0.0\n",
       "21   Study on the Relationship between Lung Cancer ...  0.0\n",
       "86   BDCNet: multi-classification convolutional neu...  0.0\n",
       "0    Convolutional bi-directional learning and spat...  0.0\n",
       "\n",
       "[120 rows x 2 columns]"
      ]
     },
     "execution_count": 11,
     "metadata": {},
     "output_type": "execute_result"
    }
   ],
   "source": [
    "pd.DataFrame(list(zip(titles, scores))).sort_values(by=[1], ascending = False)"
   ]
  },
  {
   "cell_type": "code",
   "execution_count": 12,
   "id": "2e3c1ff7",
   "metadata": {},
   "outputs": [
    {
     "data": {
      "text/plain": [
       "[<matplotlib.lines.Line2D at 0x7f7449ddb6a0>]"
      ]
     },
     "execution_count": 12,
     "metadata": {},
     "output_type": "execute_result"
    },
    {
     "data": {
      "image/png": "[encoded data removed]",
      "text/plain": [
       "<Figure size 432x288 with 1 Axes>"
      ]
     },
     "metadata": {
      "needs_background": "light"
     },
     "output_type": "display_data"
    }
   ],
   "source": [
    "plt.plot(scores)"
   ]
  },
  {
   "cell_type": "markdown",
   "id": "dc643e3b",
   "metadata": {},
   "source": [
    "# search vs abstract"
   ]
  },
  {
   "cell_type": "code",
   "execution_count": 13,
   "id": "f0f83526",
   "metadata": {},
   "outputs": [],
   "source": [
    "def search_vs_abstract(search_string, abstracts):\n",
    "    search_string = search_string.split()\n",
    "    scores = []\n",
    "    for abstract in abstracts:\n",
    "        abstract = process_text(abstract)\n",
    "        abstract = abstract.split()\n",
    "        matches = 0\n",
    "        for word in abstract:\n",
    "            if word in search_string:\n",
    "                matches += 1\n",
    "        scores.append(matches)\n",
    "    return scores"
   ]
  },
  {
   "cell_type": "code",
   "execution_count": 14,
   "id": "9fc15fca",
   "metadata": {},
   "outputs": [],
   "source": [
    "scores = search_vs_abstract(search_string, abstracts)\n",
    "scores = [i/max(scores) for i in scores]"
   ]
  },
  {
   "cell_type": "code",
   "execution_count": 15,
   "id": "f935efb0",
   "metadata": {},
   "outputs": [
    {
     "data": {
      "text/html": [
       "<div>\n",
       "<style scoped>\n",
       "    .dataframe tbody tr th:only-of-type {\n",
       "        vertical-align: middle;\n",
       "    }\n",
       "\n",
       "    .dataframe tbody tr th {\n",
       "        vertical-align: top;\n",
       "    }\n",
       "\n",
       "    .dataframe thead th {\n",
       "        text-align: right;\n",
       "    }\n",
       "</style>\n",
       "<table border=\"1\" class=\"dataframe\">\n",
       "  <thead>\n",
       "    <tr style=\"text-align: right;\">\n",
       "      <th></th>\n",
       "      <th>0</th>\n",
       "      <th>1</th>\n",
       "    </tr>\n",
       "  </thead>\n",
       "  <tbody>\n",
       "    <tr>\n",
       "      <th>101</th>\n",
       "      <td>Computer-Aided Detection of Human Lung Nodules...</td>\n",
       "      <td>1.000000</td>\n",
       "    </tr>\n",
       "    <tr>\n",
       "      <th>2</th>\n",
       "      <td>Lung Cancer Nodules Detection via an Adaptive ...</td>\n",
       "      <td>1.000000</td>\n",
       "    </tr>\n",
       "    <tr>\n",
       "      <th>56</th>\n",
       "      <td>SC-Dynamic R-CNN: A Self-Calibrated Dynamic R-...</td>\n",
       "      <td>0.714286</td>\n",
       "    </tr>\n",
       "    <tr>\n",
       "      <th>8</th>\n",
       "      <td>Deep learning-based tumor microenvironment seg...</td>\n",
       "      <td>0.714286</td>\n",
       "    </tr>\n",
       "    <tr>\n",
       "      <th>39</th>\n",
       "      <td>Multi-Class Classification of Breast Cancer Us...</td>\n",
       "      <td>0.619048</td>\n",
       "    </tr>\n",
       "    <tr>\n",
       "      <th>...</th>\n",
       "      <td>...</td>\n",
       "      <td>...</td>\n",
       "    </tr>\n",
       "    <tr>\n",
       "      <th>93</th>\n",
       "      <td>COVID-MTL: Multitask learning with Shift3D and...</td>\n",
       "      <td>0.047619</td>\n",
       "    </tr>\n",
       "    <tr>\n",
       "      <th>33</th>\n",
       "      <td>A Novel Approach to Predict Brain Cancerous Tu...</td>\n",
       "      <td>0.047619</td>\n",
       "    </tr>\n",
       "    <tr>\n",
       "      <th>98</th>\n",
       "      <td>Dual Skip Connections Minimize the False Posit...</td>\n",
       "      <td>0.047619</td>\n",
       "    </tr>\n",
       "    <tr>\n",
       "      <th>51</th>\n",
       "      <td>DNRLCNN: A CNN Framework for Identifying MiRNA...</td>\n",
       "      <td>0.047619</td>\n",
       "    </tr>\n",
       "    <tr>\n",
       "      <th>73</th>\n",
       "      <td>Development of AI-driven prediction models to ...</td>\n",
       "      <td>0.000000</td>\n",
       "    </tr>\n",
       "  </tbody>\n",
       "</table>\n",
       "<p>120 rows × 2 columns</p>\n",
       "</div>"
      ],
      "text/plain": [
       "                                                     0         1\n",
       "101  Computer-Aided Detection of Human Lung Nodules...  1.000000\n",
       "2    Lung Cancer Nodules Detection via an Adaptive ...  1.000000\n",
       "56   SC-Dynamic R-CNN: A Self-Calibrated Dynamic R-...  0.714286\n",
       "8    Deep learning-based tumor microenvironment seg...  0.714286\n",
       "39   Multi-Class Classification of Breast Cancer Us...  0.619048\n",
       "..                                                 ...       ...\n",
       "93   COVID-MTL: Multitask learning with Shift3D and...  0.047619\n",
       "33   A Novel Approach to Predict Brain Cancerous Tu...  0.047619\n",
       "98   Dual Skip Connections Minimize the False Posit...  0.047619\n",
       "51   DNRLCNN: A CNN Framework for Identifying MiRNA...  0.047619\n",
       "73   Development of AI-driven prediction models to ...  0.000000\n",
       "\n",
       "[120 rows x 2 columns]"
      ]
     },
     "execution_count": 15,
     "metadata": {},
     "output_type": "execute_result"
    }
   ],
   "source": [
    "pd.DataFrame(list(zip(titles, scores))).sort_values(by=[1], ascending = False)"
   ]
  },
  {
   "cell_type": "code",
   "execution_count": 16,
   "id": "a039643e",
   "metadata": {},
   "outputs": [
    {
     "data": {
      "text/plain": [
       "[<matplotlib.lines.Line2D at 0x7f7449c53970>]"
      ]
     },
     "execution_count": 16,
     "metadata": {},
     "output_type": "execute_result"
    },
    {
     "data": {
      "image/png": "[encoded data removed]",
      "text/plain": [
       "<Figure size 432x288 with 1 Axes>"
      ]
     },
     "metadata": {
      "needs_background": "light"
     },
     "output_type": "display_data"
    }
   ],
   "source": [
    "plt.plot(scores)"
   ]
  },
  {
   "cell_type": "markdown",
   "id": "9717c8d0",
   "metadata": {},
   "source": [
    "# Automatic dictionary"
   ]
  },
  {
   "cell_type": "code",
   "execution_count": 50,
   "id": "8c6e7725",
   "metadata": {},
   "outputs": [],
   "source": [
    "def count_words(text, dictionary):\n",
    "    text = process_text(text)\n",
    "    text = text.split()\n",
    "    for word in text:\n",
    "        if word not in dictionary:\n",
    "            dictionary[word] = 0\n",
    "        dictionary[word] += 1\n",
    "    return dictionary"
   ]
  },
  {
   "cell_type": "code",
   "execution_count": 51,
   "id": "218cf42b",
   "metadata": {},
   "outputs": [],
   "source": [
    "def get_dict_occ(df):\n",
    "    dict_occ = {}\n",
    "    \n",
    "    titles = df['Title'].tolist()\n",
    "    abstracts = df['Abstract'].tolist()\n",
    "    keywords = df['Keywords'].tolist()\n",
    "    \n",
    "    n_paper = len(titles)\n",
    "    \n",
    "    for i in range(len(titles)):\n",
    "        dict_occ = count_words(titles[i], dict_occ)\n",
    "        dict_occ = count_words(abstracts[i], dict_occ)\n",
    "        dict_occ = count_words(keywords[i], dict_occ)\n",
    "    \n",
    "    for key, value in dict_occ.items():\n",
    "        dict_occ[key] = round(value/n_paper, 3)\n",
    "    \n",
    "    return dict_occ"
   ]
  },
  {
   "cell_type": "code",
   "execution_count": 52,
   "id": "366951e1",
   "metadata": {},
   "outputs": [],
   "source": [
    "occurences = get_dict_occ(df)"
   ]
  },
  {
   "cell_type": "code",
   "execution_count": 53,
   "id": "3bf2e847",
   "metadata": {},
   "outputs": [],
   "source": [
    "common_words = pd.read_csv('common_words.csv')\n",
    "common_words = common_words['WORD'].tolist()"
   ]
  },
  {
   "cell_type": "code",
   "execution_count": 54,
   "id": "a44d6d15",
   "metadata": {},
   "outputs": [],
   "source": [
    "def clean_dict(dictionary, black_list, thr):\n",
    "    cleaned_dict = dictionary.copy()\n",
    "    \n",
    "    for key, value in dictionary.items():\n",
    "        if key in black_list or value < thr:\n",
    "            del cleaned_dict[key]\n",
    "    \n",
    "    return cleaned_dict"
   ]
  },
  {
   "cell_type": "code",
   "execution_count": 55,
   "id": "7ec33a7d",
   "metadata": {},
   "outputs": [],
   "source": [
    "occurences_cleaned = clean_dict(occurences, common_words, 0.2)"
   ]
  },
  {
   "cell_type": "code",
   "execution_count": 56,
   "id": "0806aea2",
   "metadata": {},
   "outputs": [],
   "source": [
    "occurences_scaled = occurences_cleaned.copy()\n",
    "max_occ = max(occurences_cleaned.values())\n",
    "min_occ = min(occurences_cleaned.values())\n",
    "\n",
    "for key, value in occurences_cleaned.items():\n",
    "    occurences_scaled[key] = 0.06 + (value - min_occ)/(max_occ-min_occ)*(1-0.06)"
   ]
  },
  {
   "cell_type": "code",
   "execution_count": 57,
   "id": "8d0815f6",
   "metadata": {},
   "outputs": [],
   "source": [
    "def get_scores(df, dictionary_with_weights):\n",
    "    titles = df['Title'].tolist()\n",
    "    abstracts = df['Abstract'].tolist()\n",
    "    keywords = df['Keywords'].tolist()\n",
    "    scores = []\n",
    "    for i in range(len(titles)):\n",
    "        score = 0\n",
    "        title_occ = count_words(titles[i], {})\n",
    "        abst_occ = count_words(abstracts[i], {})\n",
    "        keys_occ = count_words(keywords[i], {})\n",
    "        \n",
    "        for word in dictionary_with_weights.keys():\n",
    "            if word in title_occ:\n",
    "                score = score + title_occ[word]*dictionary_with_weights[word]*5\n",
    "            if word in abst_occ:\n",
    "                score = score + abst_occ[word]*dictionary_with_weights[word]\n",
    "            if word in keys_occ:\n",
    "                score = score + keys_occ[word]*dictionary_with_weights[word]*5\n",
    "        \n",
    "        scores.append(score)\n",
    "    scores = [(i-min(scores))/(max(scores)-min(scores)) for i in scores]\n",
    "    return scores"
   ]
  },
  {
   "cell_type": "code",
   "execution_count": null,
   "id": "43e56415",
   "metadata": {},
   "outputs": [],
   "source": [
    "scores = get_scores(df, occurences_scaled)"
   ]
  },
  {
   "cell_type": "code",
   "execution_count": 59,
   "id": "0534e876",
   "metadata": {},
   "outputs": [
    {
     "data": {
      "text/plain": [
       "[<matplotlib.lines.Line2D at 0x7f7449244d90>]"
      ]
     },
     "execution_count": 59,
     "metadata": {},
     "output_type": "execute_result"
    },
    {
     "data": {
      "image/png": "[encoded data removed]",
      "text/plain": [
       "<Figure size 432x288 with 1 Axes>"
      ]
     },
     "metadata": {
      "needs_background": "light"
     },
     "output_type": "display_data"
    }
   ],
   "source": [
    "plt.plot(get_scores(df, occurences_scaled))"
   ]
  },
  {
   "cell_type": "code",
   "execution_count": null,
   "id": "f10019da",
   "metadata": {},
   "outputs": [],
   "source": []
  }
 ],
 "metadata": {
  "kernelspec": {
   "display_name": "Python 3 (ipykernel)",
   "language": "python",
   "name": "python3"
  },
  "language_info": {
   "codemirror_mode": {
    "name": "ipython",
    "version": 3
   },
   "file_extension": ".py",
   "mimetype": "text/x-python",
   "name": "python",
   "nbconvert_exporter": "python",
   "pygments_lexer": "ipython3",
   "version": "3.10.7"
  }
 },
 "nbformat": 4,
 "nbformat_minor": 5
}
