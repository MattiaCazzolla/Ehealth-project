{
 "cells": [
  {
   "cell_type": "markdown",
   "id": "a9a6a507",
   "metadata": {},
   "source": [
    "# PubMed API Tutorial"
   ]
  },
  {
   "cell_type": "markdown",
   "id": "9cfad6ff",
   "metadata": {},
   "source": [
    "Write a program that creates a database of PubMed articles corresponding to a specific search string\n",
    "- Define the structure of your database\n",
    "- Explot the ENTREZ API to fetch the target information\n",
    "- Process the ENTREZ output into your own data structure"
   ]
  },
  {
   "cell_type": "code",
   "execution_count": 1,
   "id": "7e4ad24b",
   "metadata": {},
   "outputs": [],
   "source": [
    "import requests\n",
    "import json"
   ]
  },
  {
   "cell_type": "code",
   "execution_count": 2,
   "id": "34667703",
   "metadata": {},
   "outputs": [],
   "source": [
    "# what we would like to search on pubmed\n",
    "search_term = 'ai'\n",
    "\n",
    "# good practice when dealing with user input\n",
    "# it removes any spaces before and after the string\n",
    "search_term = search_term.strip()\n",
    "\n",
    "# also pubmed api doesn't support spaces\n",
    "# so we replace them with +\n",
    "search_term = search_term.replace(' ', '+')"
   ]
  },
  {
   "cell_type": "markdown",
   "id": "dcac1b09",
   "metadata": {},
   "source": [
    "## ESEARCH"
   ]
  },
  {
   "cell_type": "markdown",
   "id": "4161c62e",
   "metadata": {},
   "source": [
    "Portion of the API that provide a list of UIDs matching a text query <br>\n",
    "Require some parameters to be passed with the url:\n",
    "- **db**: where to look for, in our case is pubmed\n",
    "- **term**: the actual text query (user input)\n",
    "- **retmode**: the output format (xml, html, json ...)\n",
    "- **retmax**: how many UIDs to return (max 100.000 for one API call)\n",
    "- **retstart**: from what UID index start to retrieve (important if we want to retrieve more that 100000 UIDs)\n",
    "\n",
    "Here the documentation : https://www.nlm.nih.gov/dataguide/eutilities/utilities.html#esearch"
   ]
  },
  {
   "cell_type": "code",
   "execution_count": 3,
   "id": "2f0ab58d",
   "metadata": {},
   "outputs": [],
   "source": [
    "# create the url for the api with the parameters we want\n",
    "base_url = 'https://eutils.ncbi.nlm.nih.gov/entrez/eutils/esearch.fcgi'\n",
    "db = '?db=pubmed'\n",
    "term = '&term=' + search_term\n",
    "retmode = '&retmode=json' # json easier than xlm\n",
    "retstart = '&retstart=0' # not really necessary\n",
    "retmax = '&retmax=20' # only retireve 20 papers for this example"
   ]
  },
  {
   "cell_type": "code",
   "execution_count": 4,
   "id": "fe68b3e8",
   "metadata": {},
   "outputs": [
    {
     "name": "stdout",
     "output_type": "stream",
     "text": [
      "https://eutils.ncbi.nlm.nih.gov/entrez/eutils/esearch.fcgi?db=pubmed&term=ai&retmode=json&retstart=0&retmax=20\n"
     ]
    }
   ],
   "source": [
    "# the order, beside base_url, does not matter\n",
    "url = base_url + db + term + retmode + retstart + retmax\n",
    "print(url)"
   ]
  },
  {
   "cell_type": "code",
   "execution_count": 5,
   "id": "465bdb63",
   "metadata": {},
   "outputs": [
    {
     "data": {
      "text/plain": [
       "b'{\"header\":{\"type\":\"esearch\",\"version\":\"0.3\"},\"esearchresult\":{\"count\":\"1031968\",\"retmax\":\"20\",\"retstart\":\"0\",\"idlist\":[\"36198377\",\"36198246\",\"36198062\",\"36197985\",\"36197836\",\"36197712\",\"36197618\",\"36197550\",\"36197309\",\"36196897\",\"36196766\",\"36196596\",\"36196366\",\"36196333\",\"36196212\",\"36196087\",\"36195992\",\"36195890\",\"36195867\",\"36195859\"],\"translationset\":[{\"from\":\"ai\",\"to\":\"\\\\\"antagonists and inhibitors\\\\\"[Subheading] OR (\\\\\"antagonists\\\\\"[All Fields] AND \\\\\"inhibitors\\\\\"[All Fields]) OR \\\\\"antagonists and inhibitors\\\\\"[All Fields] OR \\\\\"ai\\\\\"[All Fields]\"}],\"translationstack\":[{\"term\":\"\\\\\"antagonists and inhibitors\\\\\"[Subheading]\",\"field\":\"Subheading\",\"count\":\"617323\",\"explode\":\"Y\"},{\"term\":\"\\\\\"antagonists\\\\\"[All Fields]\",\"field\":\"All Fields\",\"count\":\"894319\",\"explode\":\"N\"},{\"term\":\"\\\\\"inhibitors\\\\\"[All Fields]\",\"field\":\"All Fields\",\"count\":\"1331633\",\"explode\":\"N\"},\"AND\",\"GROUP\",\"OR\",{\"term\":\"\\\\\"antagonists and inhibitors\\\\\"[All Fields]\",\"field\":\"All Fields\",\"count\":\"617443\",\"explode\":\"N\"},\"OR\",{\"term\":\"\\\\\"ai\\\\\"[All Fields]\",\"field\":\"All Fields\",\"count\":\"387097\",\"explode\":\"N\"},\"OR\",\"GROUP\"],\"querytranslation\":\"\\\\\"antagonists and inhibitors\\\\\"[Subheading] OR (\\\\\"antagonists\\\\\"[All Fields] AND \\\\\"inhibitors\\\\\"[All Fields]) OR \\\\\"antagonists and inhibitors\\\\\"[All Fields] OR \\\\\"ai\\\\\"[All Fields]\"}}\\n'"
      ]
     },
     "execution_count": 5,
     "metadata": {},
     "output_type": "execute_result"
    }
   ],
   "source": [
    "# we request the site's content (what we see if we click the link)\n",
    "# result is in binary (we see it from the first character being b)\n",
    "site = requests.get(url).content\n",
    "site"
   ]
  },
  {
   "cell_type": "code",
   "execution_count": 6,
   "id": "ec73e7eb",
   "metadata": {},
   "outputs": [
    {
     "data": {
      "text/plain": [
       "'{\"header\":{\"type\":\"esearch\",\"version\":\"0.3\"},\"esearchresult\":{\"count\":\"1031968\",\"retmax\":\"20\",\"retstart\":\"0\",\"idlist\":[\"36198377\",\"36198246\",\"36198062\",\"36197985\",\"36197836\",\"36197712\",\"36197618\",\"36197550\",\"36197309\",\"36196897\",\"36196766\",\"36196596\",\"36196366\",\"36196333\",\"36196212\",\"36196087\",\"36195992\",\"36195890\",\"36195867\",\"36195859\"],\"translationset\":[{\"from\":\"ai\",\"to\":\"\\\\\"antagonists and inhibitors\\\\\"[Subheading] OR (\\\\\"antagonists\\\\\"[All Fields] AND \\\\\"inhibitors\\\\\"[All Fields]) OR \\\\\"antagonists and inhibitors\\\\\"[All Fields] OR \\\\\"ai\\\\\"[All Fields]\"}],\"translationstack\":[{\"term\":\"\\\\\"antagonists and inhibitors\\\\\"[Subheading]\",\"field\":\"Subheading\",\"count\":\"617323\",\"explode\":\"Y\"},{\"term\":\"\\\\\"antagonists\\\\\"[All Fields]\",\"field\":\"All Fields\",\"count\":\"894319\",\"explode\":\"N\"},{\"term\":\"\\\\\"inhibitors\\\\\"[All Fields]\",\"field\":\"All Fields\",\"count\":\"1331633\",\"explode\":\"N\"},\"AND\",\"GROUP\",\"OR\",{\"term\":\"\\\\\"antagonists and inhibitors\\\\\"[All Fields]\",\"field\":\"All Fields\",\"count\":\"617443\",\"explode\":\"N\"},\"OR\",{\"term\":\"\\\\\"ai\\\\\"[All Fields]\",\"field\":\"All Fields\",\"count\":\"387097\",\"explode\":\"N\"},\"OR\",\"GROUP\"],\"querytranslation\":\"\\\\\"antagonists and inhibitors\\\\\"[Subheading] OR (\\\\\"antagonists\\\\\"[All Fields] AND \\\\\"inhibitors\\\\\"[All Fields]) OR \\\\\"antagonists and inhibitors\\\\\"[All Fields] OR \\\\\"ai\\\\\"[All Fields]\"}}\\n'"
      ]
     },
     "execution_count": 6,
     "metadata": {},
     "output_type": "execute_result"
    }
   ],
   "source": [
    "# convert the binary in string\n",
    "site = site.decode()\n",
    "site"
   ]
  },
  {
   "cell_type": "code",
   "execution_count": 7,
   "id": "30fc5b59",
   "metadata": {},
   "outputs": [
    {
     "data": {
      "text/plain": [
       "{'header': {'type': 'esearch', 'version': '0.3'},\n",
       " 'esearchresult': {'count': '1031968',\n",
       "  'retmax': '20',\n",
       "  'retstart': '0',\n",
       "  'idlist': ['36198377',\n",
       "   '36198246',\n",
       "   '36198062',\n",
       "   '36197985',\n",
       "   '36197836',\n",
       "   '36197712',\n",
       "   '36197618',\n",
       "   '36197550',\n",
       "   '36197309',\n",
       "   '36196897',\n",
       "   '36196766',\n",
       "   '36196596',\n",
       "   '36196366',\n",
       "   '36196333',\n",
       "   '36196212',\n",
       "   '36196087',\n",
       "   '36195992',\n",
       "   '36195890',\n",
       "   '36195867',\n",
       "   '36195859'],\n",
       "  'translationset': [{'from': 'ai',\n",
       "    'to': '\"antagonists and inhibitors\"[Subheading] OR (\"antagonists\"[All Fields] AND \"inhibitors\"[All Fields]) OR \"antagonists and inhibitors\"[All Fields] OR \"ai\"[All Fields]'}],\n",
       "  'translationstack': [{'term': '\"antagonists and inhibitors\"[Subheading]',\n",
       "    'field': 'Subheading',\n",
       "    'count': '617323',\n",
       "    'explode': 'Y'},\n",
       "   {'term': '\"antagonists\"[All Fields]',\n",
       "    'field': 'All Fields',\n",
       "    'count': '894319',\n",
       "    'explode': 'N'},\n",
       "   {'term': '\"inhibitors\"[All Fields]',\n",
       "    'field': 'All Fields',\n",
       "    'count': '1331633',\n",
       "    'explode': 'N'},\n",
       "   'AND',\n",
       "   'GROUP',\n",
       "   'OR',\n",
       "   {'term': '\"antagonists and inhibitors\"[All Fields]',\n",
       "    'field': 'All Fields',\n",
       "    'count': '617443',\n",
       "    'explode': 'N'},\n",
       "   'OR',\n",
       "   {'term': '\"ai\"[All Fields]',\n",
       "    'field': 'All Fields',\n",
       "    'count': '387097',\n",
       "    'explode': 'N'},\n",
       "   'OR',\n",
       "   'GROUP'],\n",
       "  'querytranslation': '\"antagonists and inhibitors\"[Subheading] OR (\"antagonists\"[All Fields] AND \"inhibitors\"[All Fields]) OR \"antagonists and inhibitors\"[All Fields] OR \"ai\"[All Fields]'}}"
      ]
     },
     "execution_count": 7,
     "metadata": {},
     "output_type": "execute_result"
    }
   ],
   "source": [
    "# convert in json\n",
    "# the string is already formatted as a json\n",
    "json_site = json.loads(site)\n",
    "json_site"
   ]
  },
  {
   "cell_type": "code",
   "execution_count": 8,
   "id": "89430c30",
   "metadata": {},
   "outputs": [
    {
     "data": {
      "text/plain": [
       "['36198377',\n",
       " '36198246',\n",
       " '36198062',\n",
       " '36197985',\n",
       " '36197836',\n",
       " '36197712',\n",
       " '36197618',\n",
       " '36197550',\n",
       " '36197309',\n",
       " '36196897',\n",
       " '36196766',\n",
       " '36196596',\n",
       " '36196366',\n",
       " '36196333',\n",
       " '36196212',\n",
       " '36196087',\n",
       " '36195992',\n",
       " '36195890',\n",
       " '36195867',\n",
       " '36195859']"
      ]
     },
     "execution_count": 8,
     "metadata": {},
     "output_type": "execute_result"
    }
   ],
   "source": [
    "# we only want the idlist\n",
    "UIDs = json_site['esearchresult']['idlist']\n",
    "UIDs"
   ]
  },
  {
   "cell_type": "markdown",
   "id": "665614cd",
   "metadata": {},
   "source": [
    "So now we have retireved the UIDs from a search <br>\n",
    "For each UID we want to get some information: title, authors, doi ..."
   ]
  },
  {
   "cell_type": "markdown",
   "id": "66fdc277",
   "metadata": {},
   "source": [
    "## EFETCH"
   ]
  },
  {
   "cell_type": "markdown",
   "id": "8e11483c",
   "metadata": {},
   "source": [
    "Portion of the API that given a UID return formatted data records. <br>\n",
    "It require some parameter:\n",
    "- **db**: the database (our case pubmed)\n",
    "- **uid**: the UID whose data we want to retrieve\n",
    "- **retmode**/**rettype**: determine how your results will be displayed\n",
    "\n",
    "Here the doucmentation: https://www.nlm.nih.gov/dataguide/eutilities/utilities.html#efetch"
   ]
  },
  {
   "cell_type": "code",
   "execution_count": 9,
   "id": "26a7ad7d",
   "metadata": {},
   "outputs": [],
   "source": [
    "# create the url for the api with the parameters we want\n",
    "base_url = 'https://eutils.ncbi.nlm.nih.gov/entrez/eutils/efetch.fcgi'\n",
    "db = '?db=pubmed'\n",
    "uid = '&id=' + str(36135925) # just a random one, in reality we want to use the ones we retieved above\n",
    "rettype = '&rettype=medline' # medline more structured than xml"
   ]
  },
  {
   "cell_type": "code",
   "execution_count": 10,
   "id": "0e4023c7",
   "metadata": {},
   "outputs": [
    {
     "name": "stdout",
     "output_type": "stream",
     "text": [
      "https://eutils.ncbi.nlm.nih.gov/entrez/eutils/efetch.fcgi?db=pubmed&id=36135925&rettype=medline\n"
     ]
    }
   ],
   "source": [
    "url = base_url + db + uid + rettype\n",
    "print(url)"
   ]
  },
  {
   "cell_type": "markdown",
   "id": "1a7c3e7a",
   "metadata": {},
   "source": [
    "By clicking the link you can see that the data is structured in the following way: <br>\n",
    "**TAG - CONTENT** <br>\n",
    "Here are defined all the possible tags https://www.nlm.nih.gov/bsd/mms/medlineelements.html"
   ]
  },
  {
   "cell_type": "code",
   "execution_count": 11,
   "id": "b8ad62ac",
   "metadata": {},
   "outputs": [],
   "source": [
    "# we retieve the data as we did above with ESEARCH\n",
    "paper_data = requests.get(url).content\n",
    "paper_data = paper_data.decode()"
   ]
  },
  {
   "cell_type": "code",
   "execution_count": 12,
   "id": "59dfe8c9",
   "metadata": {},
   "outputs": [
    {
     "data": {
      "text/plain": [
       "\"\\nPMID- 36135925\\nOWN - NLM\\nSTAT- Publisher\\nLR  - 20220922\\nIS  - 2050-084X (Electronic)\\nIS  - 2050-084X (Linking)\\nVI  - 11\\nDP  - 2022 Sep 22\\nTI  - Fitness effects of CRISPR endonucleases in Drosophila melanogaster populations.\\nLID - 10.7554/eLife.71809 [doi]\\nLID - e71809 [pii]\\nAB  - CRISPR/Cas9 provides a highly efficient and flexible genome editing technology\\n      with numerous potential applications ranging from gene therapy to population\\n      control. Some proposed applications involve the integration of CRISPR/Cas9\\n      endonucleases into an organism's genome, which raises questions about potentially\\n      harmful effects to the transgenic individuals. One example for which this is\\n      particularly relevant are CRISPR-based gene drives conceived for the genetic\\n      alteration of entire populations. The performance of such drives can strongly\\n      depend on fitness costs experienced by drive carriers, yet relatively little is\\n      known about the magnitude and causes of these costs. Here, we assess the fitness \\n      effects of genomic CRISPR/Cas9 expression in Drosophila melanogaster cage\\n      populations by tracking allele frequencies of four different transgenic\\n      constructs that allow us to disentangle 'direct' fitness costs due to the\\n      integration, expression, and target-site activity of Cas9, from fitness costs due\\n      to potential off-target cleavage. Using a maximum likelihood framework, we find\\n      that a model with no direct fitness costs but moderate costs due to off-target\\n      effects fits our cage data best. Consistent with this, we do not observe fitness \\n      costs for a construct with Cas9HF1, a high-fidelity version of Cas9. We further\\n      demonstrate that using Cas9HF1 instead of standard Cas9 in a homing drive\\n      achieves similar drive conversion efficiency. These results suggest that gene\\n      drives should be designed with high-fidelity endonucleases and may have\\n      implications for other applications that involve genomic integration of CRISPR\\n      endonucleases.\\nCI  - (c) 2022, Langmuller et al.\\nFAU - Langmuller, Anna M\\nAU  - Langmuller AM\\nAUID- ORCID: http://orcid.org/0000-0002-6102-8862\\nAD  - Department of Computational Biology, Cornell University, Ithaca, United States.\\nFAU - Champer, Jackson\\nAU  - Champer J\\nAUID- ORCID: http://orcid.org/0000-0002-3814-3774\\nAD  - Center for Bioinformatics, Peking University, Beijing, China.\\nFAU - Lapinska, Sandra\\nAU  - Lapinska S\\nAD  - Department of Computational Biology, Cornell University, Ithaca, United States.\\nFAU - Xie, Lin\\nAU  - Xie L\\nAD  - Department of Computational Biology, Cornell University, Ithaca, United States.\\nFAU - Metzloff, Matthew\\nAU  - Metzloff M\\nAUID- ORCID: http://orcid.org/0000-0002-6108-5031\\nAD  - Department of Computational Biology, Cornell University, Ithaca, United States.\\nFAU - Champer, Samuel E\\nAU  - Champer SE\\nAUID- ORCID: http://orcid.org/0000-0002-4559-7627\\nAD  - Department of Computational Biology, Cornell University, Ithaca, United States.\\nFAU - Liu, Jingxian\\nAU  - Liu J\\nAUID- ORCID: http://orcid.org/0000-0002-2172-3297\\nAD  - Department of Biological Statistics, Cornell University, Ithaca, United States.\\nFAU - Xu, Yineng\\nAU  - Xu Y\\nAUID- ORCID: http://orcid.org/0000-0002-4473-4052\\nAD  - Department of Molecular Biology and Genetics, Cornell University, Ithaca, United \\n      States.\\nFAU - Du, Jie\\nAU  - Du J\\nAD  - Center for Bioinformatics, Peking University, Beijing, China.\\nFAU - Clark, Andrew G\\nAU  - Clark AG\\nAD  - Department of Computational Biology, Cornell University, Ithaca, United States.\\nFAU - Messer, Philipp W\\nAU  - Messer PW\\nAUID- ORCID: http://orcid.org/0000-0001-8453-9377\\nAD  - Department of Computational Biology, Cornell University, Ithaca, United States.\\nLA  - eng\\nGR  - R21AI130635/NH/NIH HHS/United States\\nGR  - F32AI138476/NH/NIH HHS/United States\\nGR  - R01GM127418/NH/NIH HHS/United States\\nPT  - Journal Article\\nDEP - 20220922\\nPL  - England\\nTA  - Elife\\nJT  - eLife\\nJID - 101579614\\nSB  - IM\\nOTO - NOTNLM\\nOT  - D. melanogaster\\nOT  - evolutionary biology\\nOT  - genetics\\nOT  - genomics\\nCOIS- AL, JC, SL, LX, MM, SC, JL, YX, JD, AC The other authors declare that no\\n      competing interests exist. PM Philipp W Messer, Reviewing editor, eLife.\\nEDAT- 2022/09/23 06:00\\nMHDA- 2022/09/23 06:00\\nCRDT- 2022/09/22 09:52\\nPHST- 2021/06/30 00:00 [received]\\nPHST- 2022/09/08 00:00 [accepted]\\nPHST- 2022/09/22 09:52 [entrez]\\nPHST- 2022/09/23 06:00 [pubmed]\\nPHST- 2022/09/23 06:00 [medline]\\nAID - 10.7554/eLife.71809 [doi]\\nAID - 71809 [pii]\\nPST - aheadofprint\\nSO  - Elife. 2022 Sep 22;11. pii: 71809. doi: 10.7554/eLife.71809.\\n\""
      ]
     },
     "execution_count": 12,
     "metadata": {},
     "output_type": "execute_result"
    }
   ],
   "source": [
    "# the data is in plain text\n",
    "# we need to process it into a more digestible structure\n",
    "paper_data"
   ]
  },
  {
   "cell_type": "code",
   "execution_count": 13,
   "id": "5e42160f",
   "metadata": {},
   "outputs": [
    {
     "data": {
      "text/plain": [
       "['',\n",
       " 'PMID- 36135925',\n",
       " 'OWN - NLM',\n",
       " 'STAT- Publisher',\n",
       " 'LR  - 20220922',\n",
       " 'IS  - 2050-084X (Electronic)',\n",
       " 'IS  - 2050-084X (Linking)',\n",
       " 'VI  - 11',\n",
       " 'DP  - 2022 Sep 22',\n",
       " 'TI  - Fitness effects of CRISPR endonucleases in Drosophila melanogaster populations.',\n",
       " 'LID - 10.7554/eLife.71809 [doi]',\n",
       " 'LID - e71809 [pii]',\n",
       " 'AB  - CRISPR/Cas9 provides a highly efficient and flexible genome editing technology',\n",
       " '      with numerous potential applications ranging from gene therapy to population',\n",
       " '      control. Some proposed applications involve the integration of CRISPR/Cas9',\n",
       " \"      endonucleases into an organism's genome, which raises questions about potentially\",\n",
       " '      harmful effects to the transgenic individuals. One example for which this is',\n",
       " '      particularly relevant are CRISPR-based gene drives conceived for the genetic',\n",
       " '      alteration of entire populations. The performance of such drives can strongly',\n",
       " '      depend on fitness costs experienced by drive carriers, yet relatively little is',\n",
       " '      known about the magnitude and causes of these costs. Here, we assess the fitness ',\n",
       " '      effects of genomic CRISPR/Cas9 expression in Drosophila melanogaster cage',\n",
       " '      populations by tracking allele frequencies of four different transgenic',\n",
       " \"      constructs that allow us to disentangle 'direct' fitness costs due to the\",\n",
       " '      integration, expression, and target-site activity of Cas9, from fitness costs due',\n",
       " '      to potential off-target cleavage. Using a maximum likelihood framework, we find',\n",
       " '      that a model with no direct fitness costs but moderate costs due to off-target',\n",
       " '      effects fits our cage data best. Consistent with this, we do not observe fitness ',\n",
       " '      costs for a construct with Cas9HF1, a high-fidelity version of Cas9. We further',\n",
       " '      demonstrate that using Cas9HF1 instead of standard Cas9 in a homing drive',\n",
       " '      achieves similar drive conversion efficiency. These results suggest that gene',\n",
       " '      drives should be designed with high-fidelity endonucleases and may have',\n",
       " '      implications for other applications that involve genomic integration of CRISPR',\n",
       " '      endonucleases.',\n",
       " 'CI  - (c) 2022, Langmuller et al.',\n",
       " 'FAU - Langmuller, Anna M',\n",
       " 'AU  - Langmuller AM',\n",
       " 'AUID- ORCID: http://orcid.org/0000-0002-6102-8862',\n",
       " 'AD  - Department of Computational Biology, Cornell University, Ithaca, United States.',\n",
       " 'FAU - Champer, Jackson',\n",
       " 'AU  - Champer J',\n",
       " 'AUID- ORCID: http://orcid.org/0000-0002-3814-3774',\n",
       " 'AD  - Center for Bioinformatics, Peking University, Beijing, China.',\n",
       " 'FAU - Lapinska, Sandra',\n",
       " 'AU  - Lapinska S',\n",
       " 'AD  - Department of Computational Biology, Cornell University, Ithaca, United States.',\n",
       " 'FAU - Xie, Lin',\n",
       " 'AU  - Xie L',\n",
       " 'AD  - Department of Computational Biology, Cornell University, Ithaca, United States.',\n",
       " 'FAU - Metzloff, Matthew',\n",
       " 'AU  - Metzloff M',\n",
       " 'AUID- ORCID: http://orcid.org/0000-0002-6108-5031',\n",
       " 'AD  - Department of Computational Biology, Cornell University, Ithaca, United States.',\n",
       " 'FAU - Champer, Samuel E',\n",
       " 'AU  - Champer SE',\n",
       " 'AUID- ORCID: http://orcid.org/0000-0002-4559-7627',\n",
       " 'AD  - Department of Computational Biology, Cornell University, Ithaca, United States.',\n",
       " 'FAU - Liu, Jingxian',\n",
       " 'AU  - Liu J',\n",
       " 'AUID- ORCID: http://orcid.org/0000-0002-2172-3297',\n",
       " 'AD  - Department of Biological Statistics, Cornell University, Ithaca, United States.',\n",
       " 'FAU - Xu, Yineng',\n",
       " 'AU  - Xu Y',\n",
       " 'AUID- ORCID: http://orcid.org/0000-0002-4473-4052',\n",
       " 'AD  - Department of Molecular Biology and Genetics, Cornell University, Ithaca, United ',\n",
       " '      States.',\n",
       " 'FAU - Du, Jie',\n",
       " 'AU  - Du J',\n",
       " 'AD  - Center for Bioinformatics, Peking University, Beijing, China.',\n",
       " 'FAU - Clark, Andrew G',\n",
       " 'AU  - Clark AG',\n",
       " 'AD  - Department of Computational Biology, Cornell University, Ithaca, United States.',\n",
       " 'FAU - Messer, Philipp W',\n",
       " 'AU  - Messer PW',\n",
       " 'AUID- ORCID: http://orcid.org/0000-0001-8453-9377',\n",
       " 'AD  - Department of Computational Biology, Cornell University, Ithaca, United States.',\n",
       " 'LA  - eng',\n",
       " 'GR  - R21AI130635/NH/NIH HHS/United States',\n",
       " 'GR  - F32AI138476/NH/NIH HHS/United States',\n",
       " 'GR  - R01GM127418/NH/NIH HHS/United States',\n",
       " 'PT  - Journal Article',\n",
       " 'DEP - 20220922',\n",
       " 'PL  - England',\n",
       " 'TA  - Elife',\n",
       " 'JT  - eLife',\n",
       " 'JID - 101579614',\n",
       " 'SB  - IM',\n",
       " 'OTO - NOTNLM',\n",
       " 'OT  - D. melanogaster',\n",
       " 'OT  - evolutionary biology',\n",
       " 'OT  - genetics',\n",
       " 'OT  - genomics',\n",
       " 'COIS- AL, JC, SL, LX, MM, SC, JL, YX, JD, AC The other authors declare that no',\n",
       " '      competing interests exist. PM Philipp W Messer, Reviewing editor, eLife.',\n",
       " 'EDAT- 2022/09/23 06:00',\n",
       " 'MHDA- 2022/09/23 06:00',\n",
       " 'CRDT- 2022/09/22 09:52',\n",
       " 'PHST- 2021/06/30 00:00 [received]',\n",
       " 'PHST- 2022/09/08 00:00 [accepted]',\n",
       " 'PHST- 2022/09/22 09:52 [entrez]',\n",
       " 'PHST- 2022/09/23 06:00 [pubmed]',\n",
       " 'PHST- 2022/09/23 06:00 [medline]',\n",
       " 'AID - 10.7554/eLife.71809 [doi]',\n",
       " 'AID - 71809 [pii]',\n",
       " 'PST - aheadofprint',\n",
       " 'SO  - Elife. 2022 Sep 22;11. pii: 71809. doi: 10.7554/eLife.71809.',\n",
       " '']"
      ]
     },
     "execution_count": 13,
     "metadata": {},
     "output_type": "execute_result"
    }
   ],
   "source": [
    "# we see that each TAG - CONTENT is on a new line\n",
    "# so we split the text in a list \n",
    "# \"TAG_1 - CONTENT_1 \\n TAG_2 - CONTENT_2\"   ------>  [TAG_1 - CONTENT_1 , TAG_2 - CONTENT_2]\n",
    "\n",
    "paper_data = paper_data.split('\\n')\n",
    "paper_data"
   ]
  },
  {
   "cell_type": "code",
   "execution_count": 14,
   "id": "697c2162",
   "metadata": {},
   "outputs": [
    {
     "data": {
      "text/plain": [
       "['PMID- 36135925',\n",
       " 'OWN - NLM',\n",
       " 'STAT- Publisher',\n",
       " 'LR  - 20220922',\n",
       " 'IS  - 2050-084X (Electronic)',\n",
       " 'IS  - 2050-084X (Linking)',\n",
       " 'VI  - 11',\n",
       " 'DP  - 2022 Sep 22',\n",
       " 'TI  - Fitness effects of CRISPR endonucleases in Drosophila melanogaster populations.',\n",
       " 'LID - 10.7554/eLife.71809 [doi]',\n",
       " 'LID - e71809 [pii]',\n",
       " \"AB  - CRISPR/Cas9 provides a highly efficient and flexible genome editing technology with numerous potential applications ranging from gene therapy to population control. Some proposed applications involve the integration of CRISPR/Cas9 endonucleases into an organism's genome, which raises questions about potentially harmful effects to the transgenic individuals. One example for which this is particularly relevant are CRISPR-based gene drives conceived for the genetic alteration of entire populations. The performance of such drives can strongly depend on fitness costs experienced by drive carriers, yet relatively little is known about the magnitude and causes of these costs. Here, we assess the fitness effects of genomic CRISPR/Cas9 expression in Drosophila melanogaster cage populations by tracking allele frequencies of four different transgenic constructs that allow us to disentangle 'direct' fitness costs due to the integration, expression, and target-site activity of Cas9, from fitness costs due to potential off-target cleavage. Using a maximum likelihood framework, we find that a model with no direct fitness costs but moderate costs due to off-target effects fits our cage data best. Consistent with this, we do not observe fitness costs for a construct with Cas9HF1, a high-fidelity version of Cas9. We further demonstrate that using Cas9HF1 instead of standard Cas9 in a homing drive achieves similar drive conversion efficiency. These results suggest that gene drives should be designed with high-fidelity endonucleases and may have implications for other applications that involve genomic integration of CRISPR endonucleases.\",\n",
       " 'CI  - (c) 2022, Langmuller et al.',\n",
       " 'FAU - Langmuller, Anna M',\n",
       " 'AU  - Langmuller AM',\n",
       " 'AUID- ORCID: http://orcid.org/0000-0002-6102-8862',\n",
       " 'AD  - Department of Computational Biology, Cornell University, Ithaca, United States.',\n",
       " 'FAU - Champer, Jackson',\n",
       " 'AU  - Champer J',\n",
       " 'AUID- ORCID: http://orcid.org/0000-0002-3814-3774',\n",
       " 'AD  - Center for Bioinformatics, Peking University, Beijing, China.',\n",
       " 'FAU - Lapinska, Sandra',\n",
       " 'AU  - Lapinska S',\n",
       " 'AD  - Department of Computational Biology, Cornell University, Ithaca, United States.',\n",
       " 'FAU - Xie, Lin',\n",
       " 'AU  - Xie L',\n",
       " 'AD  - Department of Computational Biology, Cornell University, Ithaca, United States.',\n",
       " 'FAU - Metzloff, Matthew',\n",
       " 'AU  - Metzloff M',\n",
       " 'AUID- ORCID: http://orcid.org/0000-0002-6108-5031',\n",
       " 'AD  - Department of Computational Biology, Cornell University, Ithaca, United States.',\n",
       " 'FAU - Champer, Samuel E',\n",
       " 'AU  - Champer SE',\n",
       " 'AUID- ORCID: http://orcid.org/0000-0002-4559-7627',\n",
       " 'AD  - Department of Computational Biology, Cornell University, Ithaca, United States.',\n",
       " 'FAU - Liu, Jingxian',\n",
       " 'AU  - Liu J',\n",
       " 'AUID- ORCID: http://orcid.org/0000-0002-2172-3297',\n",
       " 'AD  - Department of Biological Statistics, Cornell University, Ithaca, United States.',\n",
       " 'FAU - Xu, Yineng',\n",
       " 'AU  - Xu Y',\n",
       " 'AUID- ORCID: http://orcid.org/0000-0002-4473-4052',\n",
       " 'AD  - Department of Molecular Biology and Genetics, Cornell University, Ithaca, United States.',\n",
       " 'FAU - Du, Jie',\n",
       " 'AU  - Du J',\n",
       " 'AD  - Center for Bioinformatics, Peking University, Beijing, China.',\n",
       " 'FAU - Clark, Andrew G',\n",
       " 'AU  - Clark AG',\n",
       " 'AD  - Department of Computational Biology, Cornell University, Ithaca, United States.',\n",
       " 'FAU - Messer, Philipp W',\n",
       " 'AU  - Messer PW',\n",
       " 'AUID- ORCID: http://orcid.org/0000-0001-8453-9377',\n",
       " 'AD  - Department of Computational Biology, Cornell University, Ithaca, United States.',\n",
       " 'LA  - eng',\n",
       " 'GR  - R21AI130635/NH/NIH HHS/United States',\n",
       " 'GR  - F32AI138476/NH/NIH HHS/United States',\n",
       " 'GR  - R01GM127418/NH/NIH HHS/United States',\n",
       " 'PT  - Journal Article',\n",
       " 'DEP - 20220922',\n",
       " 'PL  - England',\n",
       " 'TA  - Elife',\n",
       " 'JT  - eLife',\n",
       " 'JID - 101579614',\n",
       " 'SB  - IM',\n",
       " 'OTO - NOTNLM',\n",
       " 'OT  - D. melanogaster',\n",
       " 'OT  - evolutionary biology',\n",
       " 'OT  - genetics',\n",
       " 'OT  - genomics',\n",
       " 'COIS- AL, JC, SL, LX, MM, SC, JL, YX, JD, AC The other authors declare that no competing interests exist. PM Philipp W Messer, Reviewing editor, eLife.',\n",
       " 'EDAT- 2022/09/23 06:00',\n",
       " 'MHDA- 2022/09/23 06:00',\n",
       " 'CRDT- 2022/09/22 09:52',\n",
       " 'PHST- 2021/06/30 00:00 [received]',\n",
       " 'PHST- 2022/09/08 00:00 [accepted]',\n",
       " 'PHST- 2022/09/22 09:52 [entrez]',\n",
       " 'PHST- 2022/09/23 06:00 [pubmed]',\n",
       " 'PHST- 2022/09/23 06:00 [medline]',\n",
       " 'AID - 10.7554/eLife.71809 [doi]',\n",
       " 'AID - 71809 [pii]',\n",
       " 'PST - aheadofprint',\n",
       " 'SO  - Elife. 2022 Sep 22;11. pii: 71809. doi: 10.7554/eLife.71809.']"
      ]
     },
     "execution_count": 14,
     "metadata": {},
     "output_type": "execute_result"
    }
   ],
   "source": [
    "# we can see that some contents are quite long (like the abstract)\n",
    "# and they do not follow the 'rule'  TAG - CONTENT\n",
    "# how can we solve it?\n",
    "# check first 4 characters\n",
    "# if those are not empty ----> there is a TAG\n",
    "# if those are empty ----> need to connect it to the previous TAG\n",
    "\n",
    "ls = []\n",
    "for elem in paper_data:\n",
    "    if elem == '':\n",
    "        continue\n",
    "    \n",
    "    elif elem[0:4] != '    ': # check if are not empty\n",
    "        elem = elem.strip()\n",
    "        elem = elem.replace('\\n', '')\n",
    "        ls.append(elem)\n",
    "    \n",
    "    else:                    # are empty\n",
    "        elem = elem.strip()\n",
    "        elem = elem.replace('\\n', '')\n",
    "        ls[-1] = ls[-1] + ' ' + elem   # connect to the previous tag\n",
    "ls"
   ]
  },
  {
   "cell_type": "code",
   "execution_count": 15,
   "id": "3d6a8d31",
   "metadata": {},
   "outputs": [
    {
     "data": {
      "text/plain": [
       "[['PMID', '36135925'],\n",
       " ['OWN', 'NLM'],\n",
       " ['STAT', 'Publisher'],\n",
       " ['LR', '20220922'],\n",
       " ['IS', '2050-084X (Electronic)'],\n",
       " ['IS', '2050-084X (Linking)'],\n",
       " ['VI', '11'],\n",
       " ['DP', '2022 Sep 22'],\n",
       " ['TI',\n",
       "  'Fitness effects of CRISPR endonucleases in Drosophila melanogaster populations.'],\n",
       " ['LID', '10.7554/eLife.71809 [doi]'],\n",
       " ['LID', 'e71809 [pii]'],\n",
       " ['AB',\n",
       "  \"CRISPR/Cas9 provides a highly efficient and flexible genome editing technology with numerous potential applications ranging from gene therapy to population control. Some proposed applications involve the integration of CRISPR/Cas9 endonucleases into an organism's genome, which raises questions about potentially harmful effects to the transgenic individuals. One example for which this is particularly relevant are CRISPR-based gene drives conceived for the genetic alteration of entire populations. The performance of such drives can strongly depend on fitness costs experienced by drive carriers, yet relatively little is known about the magnitude and causes of these costs. Here, we assess the fitness effects of genomic CRISPR/Cas9 expression in Drosophila melanogaster cage populations by tracking allele frequencies of four different transgenic constructs that allow us to disentangle 'direct' fitness costs due to the integration, expression, and target-site activity of Cas9, from fitness costs due to potential off-target cleavage. Using a maximum likelihood framework, we find that a model with no direct fitness costs but moderate costs due to off-target effects fits our cage data best. Consistent with this, we do not observe fitness costs for a construct with Cas9HF1, a high-fidelity version of Cas9. We further demonstrate that using Cas9HF1 instead of standard Cas9 in a homing drive achieves similar drive conversion efficiency. These results suggest that gene drives should be designed with high-fidelity endonucleases and may have implications for other applications that involve genomic integration of CRISPR endonucleases.\"],\n",
       " ['CI', '(c) 2022, Langmuller et al.'],\n",
       " ['FAU', 'Langmuller, Anna M'],\n",
       " ['AU', 'Langmuller AM'],\n",
       " ['AUID', 'ORCID: http://orcid.org/0000-0002-6102-8862'],\n",
       " ['AD',\n",
       "  'Department of Computational Biology, Cornell University, Ithaca, United States.'],\n",
       " ['FAU', 'Champer, Jackson'],\n",
       " ['AU', 'Champer J'],\n",
       " ['AUID', 'ORCID: http://orcid.org/0000-0002-3814-3774'],\n",
       " ['AD', 'Center for Bioinformatics, Peking University, Beijing, China.'],\n",
       " ['FAU', 'Lapinska, Sandra'],\n",
       " ['AU', 'Lapinska S'],\n",
       " ['AD',\n",
       "  'Department of Computational Biology, Cornell University, Ithaca, United States.'],\n",
       " ['FAU', 'Xie, Lin'],\n",
       " ['AU', 'Xie L'],\n",
       " ['AD',\n",
       "  'Department of Computational Biology, Cornell University, Ithaca, United States.'],\n",
       " ['FAU', 'Metzloff, Matthew'],\n",
       " ['AU', 'Metzloff M'],\n",
       " ['AUID', 'ORCID: http://orcid.org/0000-0002-6108-5031'],\n",
       " ['AD',\n",
       "  'Department of Computational Biology, Cornell University, Ithaca, United States.'],\n",
       " ['FAU', 'Champer, Samuel E'],\n",
       " ['AU', 'Champer SE'],\n",
       " ['AUID', 'ORCID: http://orcid.org/0000-0002-4559-7627'],\n",
       " ['AD',\n",
       "  'Department of Computational Biology, Cornell University, Ithaca, United States.'],\n",
       " ['FAU', 'Liu, Jingxian'],\n",
       " ['AU', 'Liu J'],\n",
       " ['AUID', 'ORCID: http://orcid.org/0000-0002-2172-3297'],\n",
       " ['AD',\n",
       "  'Department of Biological Statistics, Cornell University, Ithaca, United States.'],\n",
       " ['FAU', 'Xu, Yineng'],\n",
       " ['AU', 'Xu Y'],\n",
       " ['AUID', 'ORCID: http://orcid.org/0000-0002-4473-4052'],\n",
       " ['AD',\n",
       "  'Department of Molecular Biology and Genetics, Cornell University, Ithaca, United States.'],\n",
       " ['FAU', 'Du, Jie'],\n",
       " ['AU', 'Du J'],\n",
       " ['AD', 'Center for Bioinformatics, Peking University, Beijing, China.'],\n",
       " ['FAU', 'Clark, Andrew G'],\n",
       " ['AU', 'Clark AG'],\n",
       " ['AD',\n",
       "  'Department of Computational Biology, Cornell University, Ithaca, United States.'],\n",
       " ['FAU', 'Messer, Philipp W'],\n",
       " ['AU', 'Messer PW'],\n",
       " ['AUID', 'ORCID: http://orcid.org/0000-0001-8453-9377'],\n",
       " ['AD',\n",
       "  'Department of Computational Biology, Cornell University, Ithaca, United States.'],\n",
       " ['LA', 'eng'],\n",
       " ['GR', 'R21AI130635/NH/NIH HHS/United States'],\n",
       " ['GR', 'F32AI138476/NH/NIH HHS/United States'],\n",
       " ['GR', 'R01GM127418/NH/NIH HHS/United States'],\n",
       " ['PT', 'Journal Article'],\n",
       " ['DEP', '20220922'],\n",
       " ['PL', 'England'],\n",
       " ['TA', 'Elife'],\n",
       " ['JT', 'eLife'],\n",
       " ['JID', '101579614'],\n",
       " ['SB', 'IM'],\n",
       " ['OTO', 'NOTNLM'],\n",
       " ['OT', 'D. melanogaster'],\n",
       " ['OT', 'evolutionary biology'],\n",
       " ['OT', 'genetics'],\n",
       " ['OT', 'genomics'],\n",
       " ['COIS',\n",
       "  'AL, JC, SL, LX, MM, SC, JL, YX, JD, AC The other authors declare that no competing interests exist. PM Philipp W Messer, Reviewing editor, eLife.'],\n",
       " ['EDAT', '2022/09/23 06:00'],\n",
       " ['MHDA', '2022/09/23 06:00'],\n",
       " ['CRDT', '2022/09/22 09:52'],\n",
       " ['PHST', '2021/06/30 00:00 [received]'],\n",
       " ['PHST', '2022/09/08 00:00 [accepted]'],\n",
       " ['PHST', '2022/09/22 09:52 [entrez]'],\n",
       " ['PHST', '2022/09/23 06:00 [pubmed]'],\n",
       " ['PHST', '2022/09/23 06:00 [medline]'],\n",
       " ['AID', '10.7554/eLife.71809 [doi]'],\n",
       " ['AID', '71809 [pii]'],\n",
       " ['PST', 'aheadofprint'],\n",
       " ['SO', 'Elife. 2022 Sep 22;11. pii: 71809. doi: 10.7554/eLife.71809.']]"
      ]
     },
     "execution_count": 15,
     "metadata": {},
     "output_type": "execute_result"
    }
   ],
   "source": [
    "# now we want to achieve this:\n",
    "# [TAG - CONTENT] ----> [TAG , CONTENT]\n",
    "# so we can access the tag and the content indipendently\n",
    "\n",
    "ls_2 = [] \n",
    "for elem in ls:\n",
    "    key = elem[0:4].strip()\n",
    "    value = elem[5:].strip()\n",
    "        \n",
    "    ls_2.append([key, value])\n",
    "ls_2"
   ]
  },
  {
   "cell_type": "code",
   "execution_count": 16,
   "id": "f614da8c",
   "metadata": {},
   "outputs": [
    {
     "name": "stdout",
     "output_type": "stream",
     "text": [
      "Pubblication date: 2022 Sep 22\n",
      "\n",
      "Title: Fitness effects of CRISPR endonucleases in Drosophila melanogaster populations.\n",
      "\n",
      "Journal Title: eLife\n",
      "\n"
     ]
    }
   ],
   "source": [
    "# so the data structure we have now is something like this\n",
    "#    0    |     1\n",
    "# ---------------------\n",
    "#  tag1   |   content1\n",
    "#  tag2   |   content2\n",
    "#  tag3   |   content3\n",
    "#  tag4   |   content4\n",
    "\n",
    "\n",
    "# we find the content by iterating for each row\n",
    "# and we check if the tag for the row is the one we are looking for\n",
    "# if it is then we look at the content in the same row\n",
    "\n",
    "for row in ls_2:\n",
    "    if row[0] == 'TI':\n",
    "        print('Title: ' + row[1] + '\\n')\n",
    "        \n",
    "    elif row[0] == 'DP':\n",
    "        print('Pubblication date: ' + row[1] + '\\n')\n",
    "        \n",
    "    elif row[0] == 'JT':\n",
    "        print('Journal Title: ' + row[1] + '\\n')"
   ]
  },
  {
   "cell_type": "markdown",
   "id": "e9f4d70d",
   "metadata": {},
   "source": [
    "# Database\n",
    "We now need to repeate the procedure for all the UIDs we collected and save the info in a database"
   ]
  },
  {
   "cell_type": "code",
   "execution_count": 17,
   "id": "32843110",
   "metadata": {},
   "outputs": [],
   "source": [
    "# to make everything easier we create some functions"
   ]
  },
  {
   "cell_type": "code",
   "execution_count": 18,
   "id": "204dae17",
   "metadata": {},
   "outputs": [],
   "source": [
    "def get_data(UID, session):\n",
    "    url = 'https://eutils.ncbi.nlm.nih.gov/entrez/eutils/efetch.fcgi?db=pubmed&rettype=medline&id='\n",
    "    url = url + UID\n",
    "    data = session.get(url).content\n",
    "    return data.decode()"
   ]
  },
  {
   "cell_type": "code",
   "execution_count": 19,
   "id": "7fbd7d1a",
   "metadata": {},
   "outputs": [],
   "source": [
    "def process_data(data):\n",
    "    ls = []\n",
    "    data = data.split('\\n')\n",
    "    for elem in data:\n",
    "        if elem == '':\n",
    "            continue\n",
    "        elif elem[0:4] != '    ': \n",
    "            elem = elem.strip()\n",
    "            elem = elem.replace('\\n', '')\n",
    "            ls.append(elem)\n",
    "        else:                    \n",
    "            elem = elem.strip()\n",
    "            elem = elem.replace('\\n', '')\n",
    "            ls[-1] = ls[-1] + elem\n",
    "    \n",
    "    \n",
    "    ls_2 = [] \n",
    "    for elem in ls:\n",
    "        key = elem[0:4].strip()\n",
    "        value = elem[5:].strip()\n",
    "        \n",
    "        ls_2.append([key, value])\n",
    "    \n",
    "    return ls_2\n"
   ]
  },
  {
   "cell_type": "code",
   "execution_count": 20,
   "id": "7bac6b96",
   "metadata": {},
   "outputs": [],
   "source": [
    "def get_title(processed_data):\n",
    "    for row in processed_data:\n",
    "        if row[0] == 'TI':\n",
    "            return row[1]\n",
    "\n",
    "def get_pubblication_date(processed_data):\n",
    "    for row in processed_data:\n",
    "        if row[0] == 'DP':\n",
    "            return row[1]\n",
    "        \n",
    "def get_journal_title(processed_data):\n",
    "    for row in processed_data:\n",
    "        if row[0] == 'JT':\n",
    "            return row[1]"
   ]
  },
  {
   "cell_type": "code",
   "execution_count": 21,
   "id": "0ca274d5",
   "metadata": {},
   "outputs": [
    {
     "data": {
      "text/plain": [
       "['36198377',\n",
       " '36198246',\n",
       " '36198062',\n",
       " '36197985',\n",
       " '36197836',\n",
       " '36197712',\n",
       " '36197618',\n",
       " '36197550',\n",
       " '36197309',\n",
       " '36196897',\n",
       " '36196766',\n",
       " '36196596',\n",
       " '36196366',\n",
       " '36196333',\n",
       " '36196212',\n",
       " '36196087',\n",
       " '36195992',\n",
       " '36195890',\n",
       " '36195867',\n",
       " '36195859']"
      ]
     },
     "execution_count": 21,
     "metadata": {},
     "output_type": "execute_result"
    }
   ],
   "source": [
    "UIDs"
   ]
  },
  {
   "cell_type": "code",
   "execution_count": 22,
   "id": "d0b79273",
   "metadata": {},
   "outputs": [
    {
     "name": "stdout",
     "output_type": "stream",
     "text": [
      "Paper 1: OK\n",
      "Paper 2: OK\n",
      "Paper 3: OK\n",
      "Paper 4: OK\n",
      "Paper 5: OK\n",
      "Paper 6: OK\n",
      "Paper 7: OK\n",
      "Paper 8: OK\n",
      "Paper 9: OK\n",
      "Paper 10: OK\n",
      "Paper 11: OK\n",
      "Paper 12: OK\n",
      "Paper 13: OK\n",
      "Paper 14: OK\n",
      "Paper 15: OK\n",
      "Paper 16: OK\n",
      "Paper 17: OK\n",
      "Paper 18: OK\n",
      "Paper 19: OK\n",
      "Paper 20: OK\n"
     ]
    }
   ],
   "source": [
    "import time\n",
    "\n",
    "titles = []\n",
    "dates = []\n",
    "journals = []\n",
    "\n",
    "session = requests.Session() # much faster for multiple requests to the same url\n",
    "\n",
    "i = 1\n",
    "for UID in UIDs:\n",
    "    time.sleep(0.4) # API limits us to 3 calls per second\n",
    "    data = get_data(UID, session)\n",
    "    processed_data = process_data(data)\n",
    "    \n",
    "    titles.append(get_title(processed_data))\n",
    "    dates.append(get_pubblication_date(processed_data))\n",
    "    journals.append(get_journal_title(processed_data))\n",
    "    \n",
    "    print('Paper ' + str(i) + ': OK')\n",
    "    i += 1\n",
    "    "
   ]
  },
  {
   "cell_type": "code",
   "execution_count": 23,
   "id": "4b59994c",
   "metadata": {},
   "outputs": [],
   "source": [
    "# there are different ways to create a database with pandas\n",
    "# my favourite is using dictionaries\n",
    "# this is the basic structure\n",
    "\n",
    "# dict = {\n",
    "#   column_name : list_of_values,\n",
    "#   column_name_2 : list_of_values_2\n",
    "#}"
   ]
  },
  {
   "cell_type": "code",
   "execution_count": 24,
   "id": "90ba981c",
   "metadata": {},
   "outputs": [],
   "source": [
    "dic = {\n",
    "    'UID' : UIDs,\n",
    "    'title' : titles,\n",
    "    'Pubblication Date' : dates,\n",
    "    'Journal Title' : journals\n",
    "}"
   ]
  },
  {
   "cell_type": "code",
   "execution_count": 25,
   "id": "741f8475",
   "metadata": {},
   "outputs": [],
   "source": [
    "import pandas as pd\n",
    "\n",
    "df = pd.DataFrame(dic)"
   ]
  },
  {
   "cell_type": "code",
   "execution_count": 26,
   "id": "9c1ada67",
   "metadata": {},
   "outputs": [
    {
     "data": {
      "text/html": [
       "<div>\n",
       "<style scoped>\n",
       "    .dataframe tbody tr th:only-of-type {\n",
       "        vertical-align: middle;\n",
       "    }\n",
       "\n",
       "    .dataframe tbody tr th {\n",
       "        vertical-align: top;\n",
       "    }\n",
       "\n",
       "    .dataframe thead th {\n",
       "        text-align: right;\n",
       "    }\n",
       "</style>\n",
       "<table border=\"1\" class=\"dataframe\">\n",
       "  <thead>\n",
       "    <tr style=\"text-align: right;\">\n",
       "      <th></th>\n",
       "      <th>UID</th>\n",
       "      <th>title</th>\n",
       "      <th>Pubblication Date</th>\n",
       "      <th>Journal Title</th>\n",
       "    </tr>\n",
       "  </thead>\n",
       "  <tbody>\n",
       "    <tr>\n",
       "      <th>0</th>\n",
       "      <td>36198377</td>\n",
       "      <td>Hypouricemic and nephroprotective effects of p...</td>\n",
       "      <td>2022 Oct 2</td>\n",
       "      <td>Journal of ethnopharmacology</td>\n",
       "    </tr>\n",
       "    <tr>\n",
       "      <th>1</th>\n",
       "      <td>36198246</td>\n",
       "      <td>Persistent immune-related adverse events after...</td>\n",
       "      <td>2022 Oct 2</td>\n",
       "      <td>European journal of cancer (Oxford, England : ...</td>\n",
       "    </tr>\n",
       "    <tr>\n",
       "      <th>2</th>\n",
       "      <td>36198062</td>\n",
       "      <td>Reconsideration of the Benefits of Pharmacolog...</td>\n",
       "      <td>2022 Oct 3</td>\n",
       "      <td>The Journal of clinical psychiatry</td>\n",
       "    </tr>\n",
       "    <tr>\n",
       "      <th>3</th>\n",
       "      <td>36197985</td>\n",
       "      <td>Plasma iron controls neutrophil production and...</td>\n",
       "      <td>2022 Oct 7</td>\n",
       "      <td>Science advances</td>\n",
       "    </tr>\n",
       "    <tr>\n",
       "      <th>4</th>\n",
       "      <td>36197836</td>\n",
       "      <td>Risk Assessment of COVID-19 Cases in Emergency...</td>\n",
       "      <td>2022 Sep 12</td>\n",
       "      <td>JMIR formative research</td>\n",
       "    </tr>\n",
       "    <tr>\n",
       "      <th>5</th>\n",
       "      <td>36197712</td>\n",
       "      <td>Artificial Intelligence Applications in Health...</td>\n",
       "      <td>2022 Oct 5</td>\n",
       "      <td>Journal of medical Internet research</td>\n",
       "    </tr>\n",
       "    <tr>\n",
       "      <th>6</th>\n",
       "      <td>36197618</td>\n",
       "      <td>An overview of remote monitoring methods in bi...</td>\n",
       "      <td>2022 Oct 5</td>\n",
       "      <td>Environmental science and pollution research i...</td>\n",
       "    </tr>\n",
       "    <tr>\n",
       "      <th>7</th>\n",
       "      <td>36197550</td>\n",
       "      <td>Knockdown of RAD51AP1 suppressed cell prolifer...</td>\n",
       "      <td>2022 Oct 5</td>\n",
       "      <td>Discover. Oncology</td>\n",
       "    </tr>\n",
       "    <tr>\n",
       "      <th>8</th>\n",
       "      <td>36197309</td>\n",
       "      <td>A multicenter, randomized, open-label, 2-arm p...</td>\n",
       "      <td>2022 Oct 5</td>\n",
       "      <td>Expert opinion on biological therapy</td>\n",
       "    </tr>\n",
       "    <tr>\n",
       "      <th>9</th>\n",
       "      <td>36196897</td>\n",
       "      <td>Associations of Childhood Maltreatment and Gen...</td>\n",
       "      <td>2022 Oct 5</td>\n",
       "      <td>Journal of the American Heart Association</td>\n",
       "    </tr>\n",
       "    <tr>\n",
       "      <th>10</th>\n",
       "      <td>36196766</td>\n",
       "      <td>Improvement in Image Quality and Visibility of...</td>\n",
       "      <td>2022 Sep 29</td>\n",
       "      <td>Korean journal of radiology</td>\n",
       "    </tr>\n",
       "    <tr>\n",
       "      <th>11</th>\n",
       "      <td>36196596</td>\n",
       "      <td>Comparison of tibial alignment parameters base...</td>\n",
       "      <td>2022 Oct</td>\n",
       "      <td>Bone &amp; joint open</td>\n",
       "    </tr>\n",
       "    <tr>\n",
       "      <th>12</th>\n",
       "      <td>36196366</td>\n",
       "      <td>Urban AI: understanding the emerging role of a...</td>\n",
       "      <td>2022 Sep 30</td>\n",
       "      <td>AI &amp; society</td>\n",
       "    </tr>\n",
       "    <tr>\n",
       "      <th>13</th>\n",
       "      <td>36196333</td>\n",
       "      <td>An Overview of the Current State and Perspecti...</td>\n",
       "      <td>2022 Aug</td>\n",
       "      <td>Cureus</td>\n",
       "    </tr>\n",
       "    <tr>\n",
       "      <th>14</th>\n",
       "      <td>36196212</td>\n",
       "      <td>Identifying key challenges and needs in digita...</td>\n",
       "      <td>2022</td>\n",
       "      <td>SN social sciences</td>\n",
       "    </tr>\n",
       "    <tr>\n",
       "      <th>15</th>\n",
       "      <td>36196087</td>\n",
       "      <td>Microstructural deficits of the thalamus in ma...</td>\n",
       "      <td>2022</td>\n",
       "      <td>Brain communications</td>\n",
       "    </tr>\n",
       "    <tr>\n",
       "      <th>16</th>\n",
       "      <td>36195992</td>\n",
       "      <td>SARS-CoV-2: Has artificial intelligence stood ...</td>\n",
       "      <td>2022 Aug 5</td>\n",
       "      <td>Chinese medical journal</td>\n",
       "    </tr>\n",
       "    <tr>\n",
       "      <th>17</th>\n",
       "      <td>36195890</td>\n",
       "      <td>Assessing the sustainability of the Systems An...</td>\n",
       "      <td>2022 Oct 4</td>\n",
       "      <td>Implementation science : IS</td>\n",
       "    </tr>\n",
       "    <tr>\n",
       "      <th>18</th>\n",
       "      <td>36195867</td>\n",
       "      <td>Changes in concentrations of cervicovaginal im...</td>\n",
       "      <td>2022 Oct 5</td>\n",
       "      <td>BMC medicine</td>\n",
       "    </tr>\n",
       "    <tr>\n",
       "      <th>19</th>\n",
       "      <td>36195859</td>\n",
       "      <td>Botulinum toxin treatment for bielschowsky acq...</td>\n",
       "      <td>2022 Oct 4</td>\n",
       "      <td>BMC ophthalmology</td>\n",
       "    </tr>\n",
       "  </tbody>\n",
       "</table>\n",
       "</div>"
      ],
      "text/plain": [
       "         UID                                              title  \\\n",
       "0   36198377  Hypouricemic and nephroprotective effects of p...   \n",
       "1   36198246  Persistent immune-related adverse events after...   \n",
       "2   36198062  Reconsideration of the Benefits of Pharmacolog...   \n",
       "3   36197985  Plasma iron controls neutrophil production and...   \n",
       "4   36197836  Risk Assessment of COVID-19 Cases in Emergency...   \n",
       "5   36197712  Artificial Intelligence Applications in Health...   \n",
       "6   36197618  An overview of remote monitoring methods in bi...   \n",
       "7   36197550  Knockdown of RAD51AP1 suppressed cell prolifer...   \n",
       "8   36197309  A multicenter, randomized, open-label, 2-arm p...   \n",
       "9   36196897  Associations of Childhood Maltreatment and Gen...   \n",
       "10  36196766  Improvement in Image Quality and Visibility of...   \n",
       "11  36196596  Comparison of tibial alignment parameters base...   \n",
       "12  36196366  Urban AI: understanding the emerging role of a...   \n",
       "13  36196333  An Overview of the Current State and Perspecti...   \n",
       "14  36196212  Identifying key challenges and needs in digita...   \n",
       "15  36196087  Microstructural deficits of the thalamus in ma...   \n",
       "16  36195992  SARS-CoV-2: Has artificial intelligence stood ...   \n",
       "17  36195890  Assessing the sustainability of the Systems An...   \n",
       "18  36195867  Changes in concentrations of cervicovaginal im...   \n",
       "19  36195859  Botulinum toxin treatment for bielschowsky acq...   \n",
       "\n",
       "   Pubblication Date                                      Journal Title  \n",
       "0         2022 Oct 2                       Journal of ethnopharmacology  \n",
       "1         2022 Oct 2  European journal of cancer (Oxford, England : ...  \n",
       "2         2022 Oct 3                 The Journal of clinical psychiatry  \n",
       "3         2022 Oct 7                                   Science advances  \n",
       "4        2022 Sep 12                            JMIR formative research  \n",
       "5         2022 Oct 5               Journal of medical Internet research  \n",
       "6         2022 Oct 5  Environmental science and pollution research i...  \n",
       "7         2022 Oct 5                                 Discover. Oncology  \n",
       "8         2022 Oct 5               Expert opinion on biological therapy  \n",
       "9         2022 Oct 5          Journal of the American Heart Association  \n",
       "10       2022 Sep 29                        Korean journal of radiology  \n",
       "11          2022 Oct                                  Bone & joint open  \n",
       "12       2022 Sep 30                                       AI & society  \n",
       "13          2022 Aug                                             Cureus  \n",
       "14              2022                                 SN social sciences  \n",
       "15              2022                               Brain communications  \n",
       "16        2022 Aug 5                            Chinese medical journal  \n",
       "17        2022 Oct 4                        Implementation science : IS  \n",
       "18        2022 Oct 5                                       BMC medicine  \n",
       "19        2022 Oct 4                                  BMC ophthalmology  "
      ]
     },
     "execution_count": 26,
     "metadata": {},
     "output_type": "execute_result"
    }
   ],
   "source": [
    "df"
   ]
  }
 ],
 "metadata": {
  "kernelspec": {
   "display_name": "Python 3 (ipykernel)",
   "language": "python",
   "name": "python3"
  },
  "language_info": {
   "codemirror_mode": {
    "name": "ipython",
    "version": 3
   },
   "file_extension": ".py",
   "mimetype": "text/x-python",
   "name": "python",
   "nbconvert_exporter": "python",
   "pygments_lexer": "ipython3",
   "version": "3.10.7"
  }
 },
 "nbformat": 4,
 "nbformat_minor": 5
}
